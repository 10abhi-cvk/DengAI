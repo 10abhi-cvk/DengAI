{
  "nbformat": 4,
  "nbformat_minor": 0,
  "metadata": {
    "colab": {
      "name": "DengAI time series-Final.ipynb",
      "provenance": []
    },
    "kernelspec": {
      "name": "python3",
      "display_name": "Python 3"
    }
  },
  "cells": [
    {
      "cell_type": "code",
      "metadata": {
        "id": "zkpGSt6Qu6b7",
        "colab_type": "code",
        "colab": {
          "base_uri": "https://localhost:8080/",
          "height": 496
        },
        "outputId": "cf13bac4-0a74-4faa-dd7f-55a0747e1cf1"
      },
      "source": [
        "!pip install pmdarima"
      ],
      "execution_count": 1,
      "outputs": [
        {
          "output_type": "stream",
          "text": [
            "Collecting pmdarima\n",
            "\u001b[?25l  Downloading https://files.pythonhosted.org/packages/4b/15/0dfc38deb2f5582b79baff6523b245d6a3dbe877e3fb96a1ee39ec63b626/pmdarima-1.6.1-cp36-cp36m-manylinux1_x86_64.whl (1.5MB)\n",
            "\u001b[K     |████████████████████████████████| 1.5MB 4.6MB/s \n",
            "\u001b[?25hCollecting statsmodels>=0.11\n",
            "\u001b[?25l  Downloading https://files.pythonhosted.org/packages/cb/83/540fd83238a18abe6c2d280fa8e489ac5fcefa1f370f0ca1acd16ae1b860/statsmodels-0.11.1-cp36-cp36m-manylinux1_x86_64.whl (8.7MB)\n",
            "\u001b[K     |████████████████████████████████| 8.7MB 17.5MB/s \n",
            "\u001b[?25hRequirement already satisfied: joblib>=0.11 in /usr/local/lib/python3.6/dist-packages (from pmdarima) (0.15.1)\n",
            "Requirement already satisfied: numpy>=1.17.3 in /usr/local/lib/python3.6/dist-packages (from pmdarima) (1.18.4)\n",
            "Requirement already satisfied: urllib3 in /usr/local/lib/python3.6/dist-packages (from pmdarima) (1.24.3)\n",
            "Requirement already satisfied: pandas>=0.19 in /usr/local/lib/python3.6/dist-packages (from pmdarima) (1.0.4)\n",
            "Collecting Cython<0.29.18,>=0.29\n",
            "\u001b[?25l  Downloading https://files.pythonhosted.org/packages/e7/d7/510ddef0248f3e1e91f9cc7e31c0f35f8954d0af92c5c3fd4c853e859ebe/Cython-0.29.17-cp36-cp36m-manylinux1_x86_64.whl (2.1MB)\n",
            "\u001b[K     |████████████████████████████████| 2.1MB 46.0MB/s \n",
            "\u001b[?25hRequirement already satisfied: scipy>=1.3.2 in /usr/local/lib/python3.6/dist-packages (from pmdarima) (1.4.1)\n",
            "Requirement already satisfied: scikit-learn>=0.22 in /usr/local/lib/python3.6/dist-packages (from pmdarima) (0.22.2.post1)\n",
            "Requirement already satisfied: patsy>=0.5 in /usr/local/lib/python3.6/dist-packages (from statsmodels>=0.11->pmdarima) (0.5.1)\n",
            "Requirement already satisfied: python-dateutil>=2.6.1 in /usr/local/lib/python3.6/dist-packages (from pandas>=0.19->pmdarima) (2.8.1)\n",
            "Requirement already satisfied: pytz>=2017.2 in /usr/local/lib/python3.6/dist-packages (from pandas>=0.19->pmdarima) (2018.9)\n",
            "Requirement already satisfied: six in /usr/local/lib/python3.6/dist-packages (from patsy>=0.5->statsmodels>=0.11->pmdarima) (1.12.0)\n",
            "Installing collected packages: statsmodels, Cython, pmdarima\n",
            "  Found existing installation: statsmodels 0.10.2\n",
            "    Uninstalling statsmodels-0.10.2:\n",
            "      Successfully uninstalled statsmodels-0.10.2\n",
            "  Found existing installation: Cython 0.29.19\n",
            "    Uninstalling Cython-0.29.19:\n",
            "      Successfully uninstalled Cython-0.29.19\n",
            "Successfully installed Cython-0.29.17 pmdarima-1.6.1 statsmodels-0.11.1\n"
          ],
          "name": "stdout"
        }
      ]
    },
    {
      "cell_type": "code",
      "metadata": {
        "id": "lXG3JMmNvKeN",
        "colab_type": "code",
        "colab": {}
      },
      "source": [
        "import time\n",
        "import warnings\n",
        "import numpy as np\n",
        "import pandas as pd \n",
        "import seaborn as sns \n",
        "import lightgbm as lgb\n",
        "from itertools import cycle\n",
        "from sklearn.svm import SVR\n",
        "import statsmodels.api as sm\n",
        "from pmdarima import auto_arima\n",
        "import matplotlib.pyplot as plt\n",
        "from datetime import datetime, timedelta\n",
        "from sklearn.metrics import mean_squared_error\n",
        "from sklearn.linear_model import LinearRegression\n",
        "from sklearn.ensemble import RandomForestRegressor\n",
        "from statsmodels.graphics.tsaplots import plot_acf\n",
        "from statsmodels.tsa.holtwinters import SimpleExpSmoothing, ExponentialSmoothing\n",
        "\n",
        "%matplotlib inline \n",
        "plt.style.use('bmh')\n",
        "sns.set_style(\"whitegrid\")\n",
        "plt.rc('xtick', labelsize=15) \n",
        "plt.rc('ytick', labelsize=15) \n",
        "warnings.filterwarnings(\"ignore\")\n",
        "pd.set_option('max_colwidth', 100)\n",
        "pd.set_option('display.max_rows', 500)\n",
        "pd.set_option('display.max_columns', 500)\n",
        "color_pal = plt.rcParams['axes.prop_cycle'].by_key()['color']\n",
        "color_cycle = cycle(plt.rcParams['axes.prop_cycle'].by_key()['color'])"
      ],
      "execution_count": 0,
      "outputs": []
    },
    {
      "cell_type": "code",
      "metadata": {
        "id": "vuTk5o5UwFQs",
        "colab_type": "code",
        "colab": {}
      },
      "source": [
        "San_Juan_data = pd.read_csv(\"/content/drive/My Drive/Projects/DengAI/sanJuan_combined.csv\")\n",
        "Iquitos_data = pd.read_csv(\"/content/drive/My Drive/Projects/DengAI/iquitos_combined_pre_processed_data.csv\")"
      ],
      "execution_count": 0,
      "outputs": []
    },
    {
      "cell_type": "code",
      "metadata": {
        "id": "GwfrMXQU4akt",
        "colab_type": "code",
        "colab": {
          "base_uri": "https://localhost:8080/",
          "height": 233
        },
        "outputId": "e97dabe2-634d-47e6-9a2e-dfb5c4205253"
      },
      "source": [
        "fig, ax = plt.subplots(figsize=(15, 3))\n",
        "plot_acf(San_Juan_data['total_cases'].tolist(), lags=60, ax=ax);"
      ],
      "execution_count": 53,
      "outputs": [
        {
          "output_type": "display_data",
          "data": {
            "image/png": "[encoded data removed]",
            "text/plain": [
              "<Figure size 1080x216 with 1 Axes>"
            ]
          },
          "metadata": {
            "tags": []
          }
        }
      ]
    },
    {
      "cell_type": "code",
      "metadata": {
        "id": "sC6_GICk4eh1",
        "colab_type": "code",
        "colab": {
          "base_uri": "https://localhost:8080/",
          "height": 233
        },
        "outputId": "ad74ae94-ed77-46ba-ae04-d70bd44df940"
      },
      "source": [
        "fig, ax = plt.subplots(figsize=(15, 3))\n",
        "plot_acf(Iquitos_data['total_cases'].tolist(), lags=60, ax=ax);"
      ],
      "execution_count": 54,
      "outputs": [
        {
          "output_type": "display_data",
          "data": {
            "image/png": "[encoded data removed]",
            "text/plain": [
              "<Figure size 1080x216 with 1 Axes>"
            ]
          },
          "metadata": {
            "tags": []
          }
        }
      ]
    },
    {
      "cell_type": "markdown",
      "metadata": {
        "id": "A_KiCYjAv7KX",
        "colab_type": "text"
      },
      "source": [
        "Models on San Juan Model"
      ]
    },
    {
      "cell_type": "code",
      "metadata": {
        "id": "Ff1Kv4WEv6mR",
        "colab_type": "code",
        "colab": {
          "base_uri": "https://localhost:8080/",
          "height": 224
        },
        "outputId": "ef03aab9-9ba3-4ee2-a3f4-25ad76c8c94e"
      },
      "source": [
        "San_Juan_data.head()"
      ],
      "execution_count": 55,
      "outputs": [
        {
          "output_type": "execute_result",
          "data": {
            "text/html": [
              "<div>\n",
              "<style scoped>\n",
              "    .dataframe tbody tr th:only-of-type {\n",
              "        vertical-align: middle;\n",
              "    }\n",
              "\n",
              "    .dataframe tbody tr th {\n",
              "        vertical-align: top;\n",
              "    }\n",
              "\n",
              "    .dataframe thead th {\n",
              "        text-align: right;\n",
              "    }\n",
              "</style>\n",
              "<table border=\"1\" class=\"dataframe\">\n",
              "  <thead>\n",
              "    <tr style=\"text-align: right;\">\n",
              "      <th></th>\n",
              "      <th>city</th>\n",
              "      <th>year</th>\n",
              "      <th>weekofyear</th>\n",
              "      <th>week_start_date</th>\n",
              "      <th>ndvi_ne</th>\n",
              "      <th>ndvi_nw</th>\n",
              "      <th>ndvi_se</th>\n",
              "      <th>ndvi_sw</th>\n",
              "      <th>precipitation_amt_mm</th>\n",
              "      <th>reanalysis_air_temp_k</th>\n",
              "      <th>reanalysis_avg_temp_k</th>\n",
              "      <th>reanalysis_dew_point_temp_k</th>\n",
              "      <th>reanalysis_max_air_temp_k</th>\n",
              "      <th>reanalysis_min_air_temp_k</th>\n",
              "      <th>reanalysis_precip_amt_kg_per_m2</th>\n",
              "      <th>reanalysis_relative_humidity_percent</th>\n",
              "      <th>reanalysis_sat_precip_amt_mm</th>\n",
              "      <th>reanalysis_specific_humidity_g_per_kg</th>\n",
              "      <th>reanalysis_tdtr_k</th>\n",
              "      <th>station_avg_temp_c</th>\n",
              "      <th>station_diur_temp_rng_c</th>\n",
              "      <th>station_max_temp_c</th>\n",
              "      <th>station_min_temp_c</th>\n",
              "      <th>station_precip_mm</th>\n",
              "      <th>total_cases</th>\n",
              "    </tr>\n",
              "  </thead>\n",
              "  <tbody>\n",
              "    <tr>\n",
              "      <th>0</th>\n",
              "      <td>sj</td>\n",
              "      <td>1990</td>\n",
              "      <td>18</td>\n",
              "      <td>1990-04-30</td>\n",
              "      <td>0.122600</td>\n",
              "      <td>0.103725</td>\n",
              "      <td>0.198483</td>\n",
              "      <td>0.177617</td>\n",
              "      <td>12.42</td>\n",
              "      <td>297.572857</td>\n",
              "      <td>297.742857</td>\n",
              "      <td>292.414286</td>\n",
              "      <td>299.8</td>\n",
              "      <td>295.9</td>\n",
              "      <td>32.00</td>\n",
              "      <td>73.365714</td>\n",
              "      <td>12.42</td>\n",
              "      <td>14.012857</td>\n",
              "      <td>2.628571</td>\n",
              "      <td>25.442857</td>\n",
              "      <td>6.900000</td>\n",
              "      <td>29.4</td>\n",
              "      <td>20.0</td>\n",
              "      <td>16.0</td>\n",
              "      <td>4</td>\n",
              "    </tr>\n",
              "    <tr>\n",
              "      <th>1</th>\n",
              "      <td>sj</td>\n",
              "      <td>1990</td>\n",
              "      <td>19</td>\n",
              "      <td>1990-05-07</td>\n",
              "      <td>0.169900</td>\n",
              "      <td>0.142175</td>\n",
              "      <td>0.162357</td>\n",
              "      <td>0.155486</td>\n",
              "      <td>22.82</td>\n",
              "      <td>298.211429</td>\n",
              "      <td>298.442857</td>\n",
              "      <td>293.951429</td>\n",
              "      <td>300.9</td>\n",
              "      <td>296.4</td>\n",
              "      <td>17.94</td>\n",
              "      <td>77.368571</td>\n",
              "      <td>22.82</td>\n",
              "      <td>15.372857</td>\n",
              "      <td>2.371429</td>\n",
              "      <td>26.714286</td>\n",
              "      <td>6.371429</td>\n",
              "      <td>31.7</td>\n",
              "      <td>22.2</td>\n",
              "      <td>8.6</td>\n",
              "      <td>5</td>\n",
              "    </tr>\n",
              "    <tr>\n",
              "      <th>2</th>\n",
              "      <td>sj</td>\n",
              "      <td>1990</td>\n",
              "      <td>20</td>\n",
              "      <td>1990-05-14</td>\n",
              "      <td>0.032250</td>\n",
              "      <td>0.172967</td>\n",
              "      <td>0.157200</td>\n",
              "      <td>0.170843</td>\n",
              "      <td>34.54</td>\n",
              "      <td>298.781429</td>\n",
              "      <td>298.878571</td>\n",
              "      <td>295.434286</td>\n",
              "      <td>300.5</td>\n",
              "      <td>297.3</td>\n",
              "      <td>26.10</td>\n",
              "      <td>82.052857</td>\n",
              "      <td>34.54</td>\n",
              "      <td>16.848571</td>\n",
              "      <td>2.300000</td>\n",
              "      <td>26.714286</td>\n",
              "      <td>6.485714</td>\n",
              "      <td>32.2</td>\n",
              "      <td>22.8</td>\n",
              "      <td>41.4</td>\n",
              "      <td>4</td>\n",
              "    </tr>\n",
              "    <tr>\n",
              "      <th>3</th>\n",
              "      <td>sj</td>\n",
              "      <td>1990</td>\n",
              "      <td>21</td>\n",
              "      <td>1990-05-21</td>\n",
              "      <td>0.128633</td>\n",
              "      <td>0.245067</td>\n",
              "      <td>0.227557</td>\n",
              "      <td>0.235886</td>\n",
              "      <td>15.36</td>\n",
              "      <td>298.987143</td>\n",
              "      <td>299.228571</td>\n",
              "      <td>295.310000</td>\n",
              "      <td>301.4</td>\n",
              "      <td>297.0</td>\n",
              "      <td>13.90</td>\n",
              "      <td>80.337143</td>\n",
              "      <td>15.36</td>\n",
              "      <td>16.672857</td>\n",
              "      <td>2.428571</td>\n",
              "      <td>27.471429</td>\n",
              "      <td>6.771429</td>\n",
              "      <td>33.3</td>\n",
              "      <td>23.3</td>\n",
              "      <td>4.0</td>\n",
              "      <td>3</td>\n",
              "    </tr>\n",
              "    <tr>\n",
              "      <th>4</th>\n",
              "      <td>sj</td>\n",
              "      <td>1990</td>\n",
              "      <td>22</td>\n",
              "      <td>1990-05-28</td>\n",
              "      <td>0.196200</td>\n",
              "      <td>0.262200</td>\n",
              "      <td>0.251200</td>\n",
              "      <td>0.247340</td>\n",
              "      <td>7.52</td>\n",
              "      <td>299.518571</td>\n",
              "      <td>299.664286</td>\n",
              "      <td>295.821429</td>\n",
              "      <td>301.9</td>\n",
              "      <td>297.5</td>\n",
              "      <td>12.20</td>\n",
              "      <td>80.460000</td>\n",
              "      <td>7.52</td>\n",
              "      <td>17.210000</td>\n",
              "      <td>3.014286</td>\n",
              "      <td>28.942857</td>\n",
              "      <td>9.371429</td>\n",
              "      <td>35.0</td>\n",
              "      <td>23.9</td>\n",
              "      <td>5.8</td>\n",
              "      <td>6</td>\n",
              "    </tr>\n",
              "  </tbody>\n",
              "</table>\n",
              "</div>"
            ],
            "text/plain": [
              "  city  year  weekofyear week_start_date   ndvi_ne   ndvi_nw   ndvi_se  \\\n",
              "0   sj  1990          18      1990-04-30  0.122600  0.103725  0.198483   \n",
              "1   sj  1990          19      1990-05-07  0.169900  0.142175  0.162357   \n",
              "2   sj  1990          20      1990-05-14  0.032250  0.172967  0.157200   \n",
              "3   sj  1990          21      1990-05-21  0.128633  0.245067  0.227557   \n",
              "4   sj  1990          22      1990-05-28  0.196200  0.262200  0.251200   \n",
              "\n",
              "    ndvi_sw  precipitation_amt_mm  reanalysis_air_temp_k  \\\n",
              "0  0.177617                 12.42             297.572857   \n",
              "1  0.155486                 22.82             298.211429   \n",
              "2  0.170843                 34.54             298.781429   \n",
              "3  0.235886                 15.36             298.987143   \n",
              "4  0.247340                  7.52             299.518571   \n",
              "\n",
              "   reanalysis_avg_temp_k  reanalysis_dew_point_temp_k  \\\n",
              "0             297.742857                   292.414286   \n",
              "1             298.442857                   293.951429   \n",
              "2             298.878571                   295.434286   \n",
              "3             299.228571                   295.310000   \n",
              "4             299.664286                   295.821429   \n",
              "\n",
              "   reanalysis_max_air_temp_k  reanalysis_min_air_temp_k  \\\n",
              "0                      299.8                      295.9   \n",
              "1                      300.9                      296.4   \n",
              "2                      300.5                      297.3   \n",
              "3                      301.4                      297.0   \n",
              "4                      301.9                      297.5   \n",
              "\n",
              "   reanalysis_precip_amt_kg_per_m2  reanalysis_relative_humidity_percent  \\\n",
              "0                            32.00                             73.365714   \n",
              "1                            17.94                             77.368571   \n",
              "2                            26.10                             82.052857   \n",
              "3                            13.90                             80.337143   \n",
              "4                            12.20                             80.460000   \n",
              "\n",
              "   reanalysis_sat_precip_amt_mm  reanalysis_specific_humidity_g_per_kg  \\\n",
              "0                         12.42                              14.012857   \n",
              "1                         22.82                              15.372857   \n",
              "2                         34.54                              16.848571   \n",
              "3                         15.36                              16.672857   \n",
              "4                          7.52                              17.210000   \n",
              "\n",
              "   reanalysis_tdtr_k  station_avg_temp_c  station_diur_temp_rng_c  \\\n",
              "0           2.628571           25.442857                 6.900000   \n",
              "1           2.371429           26.714286                 6.371429   \n",
              "2           2.300000           26.714286                 6.485714   \n",
              "3           2.428571           27.471429                 6.771429   \n",
              "4           3.014286           28.942857                 9.371429   \n",
              "\n",
              "   station_max_temp_c  station_min_temp_c  station_precip_mm  total_cases  \n",
              "0                29.4                20.0               16.0            4  \n",
              "1                31.7                22.2                8.6            5  \n",
              "2                32.2                22.8               41.4            4  \n",
              "3                33.3                23.3                4.0            3  \n",
              "4                35.0                23.9                5.8            6  "
            ]
          },
          "metadata": {
            "tags": []
          },
          "execution_count": 55
        }
      ]
    },
    {
      "cell_type": "markdown",
      "metadata": {
        "id": "ShpUywDuwVTZ",
        "colab_type": "text"
      },
      "source": [
        "ARIMA Model"
      ]
    },
    {
      "cell_type": "code",
      "metadata": {
        "id": "nd2kXJtbwODz",
        "colab_type": "code",
        "colab": {
          "base_uri": "https://localhost:8080/",
          "height": 703
        },
        "outputId": "b2f171d0-4ba4-4818-e7c9-98304707ab2e"
      },
      "source": [
        "arima_model_San_Juan = auto_arima(San_Juan_data['total_cases'],stationary=True,trace=True)\n",
        "arima_model_San_Juan.summary() "
      ],
      "execution_count": 56,
      "outputs": [
        {
          "output_type": "stream",
          "text": [
            "Performing stepwise search to minimize aic\n",
            "Fit ARIMA(2,0,2)x(0,0,0,0) [intercept=True]; AIC=7490.925, BIC=7519.974, Time=0.925 seconds\n",
            "Fit ARIMA(0,0,0)x(0,0,0,0) [intercept=True]; AIC=10033.577, BIC=10043.260, Time=0.036 seconds\n",
            "Fit ARIMA(1,0,0)x(0,0,0,0) [intercept=True]; AIC=7537.460, BIC=7551.985, Time=0.083 seconds\n",
            "Fit ARIMA(0,0,1)x(0,0,0,0) [intercept=True]; AIC=9061.112, BIC=9075.637, Time=0.319 seconds\n",
            "Fit ARIMA(0,0,0)x(0,0,0,0) [intercept=False]; AIC=10374.835, BIC=10379.677, Time=0.021 seconds\n",
            "Fit ARIMA(1,0,2)x(0,0,0,0) [intercept=True]; AIC=7509.307, BIC=7533.515, Time=0.555 seconds\n",
            "Fit ARIMA(2,0,1)x(0,0,0,0) [intercept=True]; AIC=7488.982, BIC=7513.191, Time=0.563 seconds\n",
            "Fit ARIMA(1,0,1)x(0,0,0,0) [intercept=True]; AIC=7520.965, BIC=7540.332, Time=0.340 seconds\n",
            "Fit ARIMA(2,0,0)x(0,0,0,0) [intercept=True]; AIC=7516.329, BIC=7535.696, Time=0.200 seconds\n",
            "Fit ARIMA(3,0,1)x(0,0,0,0) [intercept=True]; AIC=7490.924, BIC=7519.974, Time=1.305 seconds\n",
            "Fit ARIMA(3,0,0)x(0,0,0,0) [intercept=True]; AIC=7506.186, BIC=7530.394, Time=0.523 seconds\n",
            "Fit ARIMA(3,0,2)x(0,0,0,0) [intercept=True]; AIC=7490.084, BIC=7523.975, Time=1.997 seconds\n",
            "Total fit time: 6.877 seconds\n"
          ],
          "name": "stdout"
        },
        {
          "output_type": "execute_result",
          "data": {
            "text/html": [
              "<table class=\"simpletable\">\n",
              "<caption>SARIMAX Results</caption>\n",
              "<tr>\n",
              "  <th>Dep. Variable:</th>           <td>y</td>        <th>  No. Observations:  </th>    <td>936</td>   \n",
              "</tr>\n",
              "<tr>\n",
              "  <th>Model:</th>           <td>SARIMAX(2, 0, 1)</td> <th>  Log Likelihood     </th> <td>-3739.491</td>\n",
              "</tr>\n",
              "<tr>\n",
              "  <th>Date:</th>            <td>Wed, 03 Jun 2020</td> <th>  AIC                </th> <td>7488.982</td> \n",
              "</tr>\n",
              "<tr>\n",
              "  <th>Time:</th>                <td>20:39:47</td>     <th>  BIC                </th> <td>7513.191</td> \n",
              "</tr>\n",
              "<tr>\n",
              "  <th>Sample:</th>                  <td>0</td>        <th>  HQIC               </th> <td>7498.213</td> \n",
              "</tr>\n",
              "<tr>\n",
              "  <th></th>                      <td> - 936</td>      <th>                     </th>     <td> </td>    \n",
              "</tr>\n",
              "<tr>\n",
              "  <th>Covariance Type:</th>        <td>opg</td>       <th>                     </th>     <td> </td>    \n",
              "</tr>\n",
              "</table>\n",
              "<table class=\"simpletable\">\n",
              "<tr>\n",
              "      <td></td>         <th>coef</th>     <th>std err</th>      <th>z</th>      <th>P>|z|</th>  <th>[0.025</th>    <th>0.975]</th>  \n",
              "</tr>\n",
              "<tr>\n",
              "  <th>intercept</th> <td>    0.4932</td> <td>    0.158</td> <td>    3.129</td> <td> 0.002</td> <td>    0.184</td> <td>    0.802</td>\n",
              "</tr>\n",
              "<tr>\n",
              "  <th>ar.L1</th>     <td>    1.8504</td> <td>    0.027</td> <td>   68.911</td> <td> 0.000</td> <td>    1.798</td> <td>    1.903</td>\n",
              "</tr>\n",
              "<tr>\n",
              "  <th>ar.L2</th>     <td>   -0.8649</td> <td>    0.026</td> <td>  -33.623</td> <td> 0.000</td> <td>   -0.915</td> <td>   -0.814</td>\n",
              "</tr>\n",
              "<tr>\n",
              "  <th>ma.L1</th>     <td>   -0.7831</td> <td>    0.034</td> <td>  -22.778</td> <td> 0.000</td> <td>   -0.851</td> <td>   -0.716</td>\n",
              "</tr>\n",
              "<tr>\n",
              "  <th>sigma2</th>    <td>  172.3351</td> <td>    3.220</td> <td>   53.515</td> <td> 0.000</td> <td>  166.023</td> <td>  178.647</td>\n",
              "</tr>\n",
              "</table>\n",
              "<table class=\"simpletable\">\n",
              "<tr>\n",
              "  <th>Ljung-Box (Q):</th>          <td>46.45</td> <th>  Jarque-Bera (JB):  </th> <td>5058.29</td>\n",
              "</tr>\n",
              "<tr>\n",
              "  <th>Prob(Q):</th>                <td>0.22</td>  <th>  Prob(JB):          </th>  <td>0.00</td>  \n",
              "</tr>\n",
              "<tr>\n",
              "  <th>Heteroskedasticity (H):</th> <td>0.34</td>  <th>  Skew:              </th>  <td>0.94</td>  \n",
              "</tr>\n",
              "<tr>\n",
              "  <th>Prob(H) (two-sided):</th>    <td>0.00</td>  <th>  Kurtosis:          </th>  <td>14.23</td> \n",
              "</tr>\n",
              "</table><br/><br/>Warnings:<br/>[1] Covariance matrix calculated using the outer product of gradients (complex-step)."
            ],
            "text/plain": [
              "<class 'statsmodels.iolib.summary.Summary'>\n",
              "\"\"\"\n",
              "                               SARIMAX Results                                \n",
              "==============================================================================\n",
              "Dep. Variable:                      y   No. Observations:                  936\n",
              "Model:               SARIMAX(2, 0, 1)   Log Likelihood               -3739.491\n",
              "Date:                Wed, 03 Jun 2020   AIC                           7488.982\n",
              "Time:                        20:39:47   BIC                           7513.191\n",
              "Sample:                             0   HQIC                          7498.213\n",
              "                                - 936                                         \n",
              "Covariance Type:                  opg                                         \n",
              "==============================================================================\n",
              "                 coef    std err          z      P>|z|      [0.025      0.975]\n",
              "------------------------------------------------------------------------------\n",
              "intercept      0.4932      0.158      3.129      0.002       0.184       0.802\n",
              "ar.L1          1.8504      0.027     68.911      0.000       1.798       1.903\n",
              "ar.L2         -0.8649      0.026    -33.623      0.000      -0.915      -0.814\n",
              "ma.L1         -0.7831      0.034    -22.778      0.000      -0.851      -0.716\n",
              "sigma2       172.3351      3.220     53.515      0.000     166.023     178.647\n",
              "===================================================================================\n",
              "Ljung-Box (Q):                       46.45   Jarque-Bera (JB):              5058.29\n",
              "Prob(Q):                              0.22   Prob(JB):                         0.00\n",
              "Heteroskedasticity (H):               0.34   Skew:                             0.94\n",
              "Prob(H) (two-sided):                  0.00   Kurtosis:                        14.23\n",
              "===================================================================================\n",
              "\n",
              "Warnings:\n",
              "[1] Covariance matrix calculated using the outer product of gradients (complex-step).\n",
              "\"\"\""
            ]
          },
          "metadata": {
            "tags": []
          },
          "execution_count": 56
        }
      ]
    },
    {
      "cell_type": "code",
      "metadata": {
        "id": "iD4MT5Jsweod",
        "colab_type": "code",
        "colab": {
          "base_uri": "https://localhost:8080/",
          "height": 918
        },
        "outputId": "fe2bf6ea-58b0-46b2-f05f-245e3ff84e4d"
      },
      "source": [
        "arima_model_San_Juan.fit(San_Juan_data['total_cases'])\n",
        "predictions_San_Juan = arima_model_San_Juan.predict(n_periods=261)\n",
        "predictions_San_Juan"
      ],
      "execution_count": 57,
      "outputs": [
        {
          "output_type": "execute_result",
          "data": {
            "text/plain": [
              "array([ 7.09447092,  9.29592912, 11.55788114, 13.83923379, 16.10416267,\n",
              "       18.32192188, 20.46660543, 22.51687049, 24.45563159, 26.26973414,\n",
              "       27.94961492, 29.48895609, 30.88433873, 32.13490101, 33.24200527,\n",
              "       34.20891776, 35.04050391, 35.74294145, 36.32345328, 36.79006109,\n",
              "       37.15136076, 37.41631966, 37.59409594, 37.69387949, 37.7247539 ,\n",
              "       37.69557859, 37.61489018, 37.49082183, 37.33103936, 37.14269285,\n",
              "       36.93238221, 36.70613547, 36.46939826, 36.22703328, 35.98332824,\n",
              "       35.74201112, 35.50627156, 35.27878714, 35.06175358, 34.85691786,\n",
              "       34.66561347, 34.48879679, 34.32708416, 34.18078884, 34.04995736,\n",
              "       33.93440491, 33.83374927, 33.74744305, 33.67480394, 33.6150429 ,\n",
              "       33.56729003, 33.5306182 , 33.50406423, 33.48664779, 33.47738799,\n",
              "       33.47531775, 33.47949597, 33.48901776, 33.50302267, 33.52070127,\n",
              "       33.54129997, 33.56412452, 33.58854202, 33.61398191, 33.63993581,\n",
              "       33.66595656, 33.69165639, 33.71670462, 33.74082472, 33.763791  ,\n",
              "       33.78542508, 33.80559206, 33.82419659, 33.84117897, 33.85651118,\n",
              "       33.87019296, 33.88224816, 33.89272104, 33.90167293, 33.90917901,\n",
              "       33.91532534, 33.92020616, 33.92392138, 33.92657438, 33.92827006,\n",
              "       33.92911304, 33.92920625, 33.92864963, 33.92753904, 33.9259655 ,\n",
              "       33.92401444, 33.92176526, 33.91929097, 33.91665798, 33.91392606,\n",
              "       33.91114834, 33.90837142, 33.90563561, 33.90297519, 33.90041868,\n",
              "       33.89798926, 33.89570512, 33.89357988, 33.891623  , 33.88984022,\n",
              "       33.88823396, 33.88680377, 33.88554667, 33.88445758, 33.88352965,\n",
              "       33.88275461, 33.88212309, 33.8816249 , 33.88124928, 33.88098513,\n",
              "       33.88082124, 33.88074645, 33.88074982, 33.88082073, 33.88094903,\n",
              "       33.88112511, 33.88133994, 33.88158516, 33.8818531 , 33.88213678,\n",
              "       33.88242996, 33.88272709, 33.8830233 , 33.88331441, 33.88359687,\n",
              "       33.88386774, 33.88412463, 33.88436571, 33.8845896 , 33.88479536,\n",
              "       33.88498245, 33.88515066, 33.8853001 , 33.88543112, 33.88554432,\n",
              "       33.88564044, 33.88572041, 33.88578522, 33.885836  , 33.8858739 ,\n",
              "       33.88590009, 33.8859158 , 33.88592219, 33.88592045, 33.88591168,\n",
              "       33.88589698, 33.88587735, 33.88585374, 33.88582704, 33.88579806,\n",
              "       33.88576752, 33.88573607, 33.88570431, 33.88567273, 33.88564176,\n",
              "       33.88561179, 33.8855831 , 33.88555594, 33.88553051, 33.88550693,\n",
              "       33.8854853 , 33.88546567, 33.88544807, 33.88543246, 33.88541881,\n",
              "       33.88540705, 33.8853971 , 33.88538886, 33.88538221, 33.88537704,\n",
              "       33.88537323, 33.88537064, 33.88536915, 33.88536864, 33.88536897,\n",
              "       33.88537003, 33.8853717 , 33.88537388, 33.88537647, 33.88537937,\n",
              "       33.88538251, 33.88538579, 33.88538916, 33.88539256, 33.88539592,\n",
              "       33.88539921, 33.88540239, 33.88540543, 33.8854083 , 33.88541098,\n",
              "       33.88541347, 33.88541574, 33.8854178 , 33.88541964, 33.88542127,\n",
              "       33.88542269, 33.88542391, 33.88542494, 33.88542579, 33.88542647,\n",
              "       33.88542699, 33.88542738, 33.88542763, 33.88542777, 33.88542781,\n",
              "       33.88542776, 33.88542763, 33.88542744, 33.8854272 , 33.88542692,\n",
              "       33.8854266 , 33.88542626, 33.88542591, 33.88542555, 33.88542519,\n",
              "       33.88542483, 33.88542448, 33.88542414, 33.88542382, 33.88542352,\n",
              "       33.88542323, 33.88542297, 33.88542273, 33.88542252, 33.88542233,\n",
              "       33.88542216, 33.88542201, 33.88542188, 33.88542178, 33.88542169,\n",
              "       33.88542162, 33.88542156, 33.88542153, 33.8854215 , 33.88542149,\n",
              "       33.88542149, 33.88542149, 33.88542151, 33.88542153, 33.88542156,\n",
              "       33.88542159, 33.88542162, 33.88542166, 33.8854217 , 33.88542173,\n",
              "       33.88542177, 33.88542181, 33.88542185, 33.88542188, 33.88542192,\n",
              "       33.88542195, 33.88542198, 33.88542201, 33.88542203, 33.88542206,\n",
              "       33.88542208])"
            ]
          },
          "metadata": {
            "tags": []
          },
          "execution_count": 57
        }
      ]
    },
    {
      "cell_type": "markdown",
      "metadata": {
        "id": "GKbGeo40xEKm",
        "colab_type": "text"
      },
      "source": [
        "ARIMAX Model"
      ]
    },
    {
      "cell_type": "code",
      "metadata": {
        "id": "SPK5zewHwkn8",
        "colab_type": "code",
        "colab": {
          "base_uri": "https://localhost:8080/",
          "height": 740
        },
        "outputId": "8456df6e-ba97-4575-ba3a-c4a139996322"
      },
      "source": [
        "combined = San_Juan_data.loc[:,['precipitation_amt_mm','reanalysis_relative_humidity_percent','reanalysis_dew_point_temp_k',\n",
        "                               'reanalysis_max_air_temp_k','reanalysis_min_air_temp_k','reanalysis_avg_temp_k','station_diur_temp_rng_c']]\n",
        "\n",
        "arima_model_San_Juan_arimax = auto_arima(San_Juan_data['total_cases'],trace=True,exogenous=combined,stationary=True)\n",
        "arima_model_San_Juan_arimax.summary()"
      ],
      "execution_count": 58,
      "outputs": [
        {
          "output_type": "stream",
          "text": [
            "Performing stepwise search to minimize aic\n",
            "Fit ARIMA(2,0,2)x(0,0,0,0) [intercept=True]; AIC=7904.370, BIC=7967.311, Time=3.361 seconds\n",
            "Fit ARIMA(0,0,0)x(0,0,0,0) [intercept=True]; AIC=9995.205, BIC=10038.780, Time=0.369 seconds\n",
            "Fit ARIMA(1,0,0)x(0,0,0,0) [intercept=True]; AIC=7833.211, BIC=7881.627, Time=1.496 seconds\n",
            "Fit ARIMA(0,0,1)x(0,0,0,0) [intercept=True]; AIC=9119.135, BIC=9167.552, Time=2.521 seconds\n",
            "Fit ARIMA(0,0,0)x(0,0,0,0) [intercept=False]; AIC=9993.206, BIC=10031.939, Time=0.835 seconds\n",
            "Fit ARIMA(2,0,0)x(0,0,0,0) [intercept=True]; AIC=7833.529, BIC=7886.787, Time=2.871 seconds\n",
            "Fit ARIMA(1,0,1)x(0,0,0,0) [intercept=True]; AIC=7836.701, BIC=7889.959, Time=2.744 seconds\n",
            "Fit ARIMA(2,0,1)x(0,0,0,0) [intercept=True]; AIC=7836.362, BIC=7894.461, Time=3.177 seconds\n",
            "Total fit time: 17.383 seconds\n"
          ],
          "name": "stdout"
        },
        {
          "output_type": "execute_result",
          "data": {
            "text/html": [
              "<table class=\"simpletable\">\n",
              "<caption>SARIMAX Results</caption>\n",
              "<tr>\n",
              "  <th>Dep. Variable:</th>           <td>y</td>        <th>  No. Observations:  </th>    <td>936</td>   \n",
              "</tr>\n",
              "<tr>\n",
              "  <th>Model:</th>           <td>SARIMAX(1, 0, 0)</td> <th>  Log Likelihood     </th> <td>-3906.606</td>\n",
              "</tr>\n",
              "<tr>\n",
              "  <th>Date:</th>            <td>Wed, 03 Jun 2020</td> <th>  AIC                </th> <td>7833.211</td> \n",
              "</tr>\n",
              "<tr>\n",
              "  <th>Time:</th>                <td>20:40:23</td>     <th>  BIC                </th> <td>7881.627</td> \n",
              "</tr>\n",
              "<tr>\n",
              "  <th>Sample:</th>                  <td>0</td>        <th>  HQIC               </th> <td>7851.672</td> \n",
              "</tr>\n",
              "<tr>\n",
              "  <th></th>                      <td> - 936</td>      <th>                     </th>     <td> </td>    \n",
              "</tr>\n",
              "<tr>\n",
              "  <th>Covariance Type:</th>        <td>opg</td>       <th>                     </th>     <td> </td>    \n",
              "</tr>\n",
              "</table>\n",
              "<table class=\"simpletable\">\n",
              "<tr>\n",
              "                    <td></td>                      <th>coef</th>     <th>std err</th>      <th>z</th>      <th>P>|z|</th>  <th>[0.025</th>    <th>0.975]</th>  \n",
              "</tr>\n",
              "<tr>\n",
              "  <th>intercept</th>                            <td>   -2.2676</td> <td>   15.781</td> <td>   -0.144</td> <td> 0.886</td> <td>  -33.198</td> <td>   28.662</td>\n",
              "</tr>\n",
              "<tr>\n",
              "  <th>precipitation_amt_mm</th>                 <td>   -0.0076</td> <td>    0.011</td> <td>   -0.692</td> <td> 0.489</td> <td>   -0.029</td> <td>    0.014</td>\n",
              "</tr>\n",
              "<tr>\n",
              "  <th>reanalysis_relative_humidity_percent</th> <td>  -17.3750</td> <td>    0.917</td> <td>  -18.944</td> <td> 0.000</td> <td>  -19.173</td> <td>  -15.577</td>\n",
              "</tr>\n",
              "<tr>\n",
              "  <th>reanalysis_dew_point_temp_k</th>          <td>   84.1660</td> <td>    4.320</td> <td>   19.481</td> <td> 0.000</td> <td>   75.698</td> <td>   92.634</td>\n",
              "</tr>\n",
              "<tr>\n",
              "  <th>reanalysis_max_air_temp_k</th>            <td>    2.5106</td> <td>    1.188</td> <td>    2.114</td> <td> 0.035</td> <td>    0.183</td> <td>    4.838</td>\n",
              "</tr>\n",
              "<tr>\n",
              "  <th>reanalysis_min_air_temp_k</th>            <td>   -4.1057</td> <td>    1.128</td> <td>   -3.641</td> <td> 0.000</td> <td>   -6.316</td> <td>   -1.896</td>\n",
              "</tr>\n",
              "<tr>\n",
              "  <th>reanalysis_avg_temp_k</th>                <td>  -76.6258</td> <td>    3.960</td> <td>  -19.348</td> <td> 0.000</td> <td>  -84.388</td> <td>  -68.864</td>\n",
              "</tr>\n",
              "<tr>\n",
              "  <th>station_diur_temp_rng_c</th>              <td>   -0.1269</td> <td>    0.738</td> <td>   -0.172</td> <td> 0.864</td> <td>   -1.573</td> <td>    1.320</td>\n",
              "</tr>\n",
              "<tr>\n",
              "  <th>ar.L1</th>                                <td>    0.9428</td> <td>    0.005</td> <td>  199.355</td> <td> 0.000</td> <td>    0.933</td> <td>    0.952</td>\n",
              "</tr>\n",
              "<tr>\n",
              "  <th>sigma2</th>                               <td>  242.3142</td> <td>    6.166</td> <td>   39.296</td> <td> 0.000</td> <td>  230.228</td> <td>  254.400</td>\n",
              "</tr>\n",
              "</table>\n",
              "<table class=\"simpletable\">\n",
              "<tr>\n",
              "  <th>Ljung-Box (Q):</th>          <td>60.28</td> <th>  Jarque-Bera (JB):  </th> <td>2189.60</td>\n",
              "</tr>\n",
              "<tr>\n",
              "  <th>Prob(Q):</th>                <td>0.02</td>  <th>  Prob(JB):          </th>  <td>0.00</td>  \n",
              "</tr>\n",
              "<tr>\n",
              "  <th>Heteroskedasticity (H):</th> <td>0.47</td>  <th>  Skew:              </th>  <td>0.84</td>  \n",
              "</tr>\n",
              "<tr>\n",
              "  <th>Prob(H) (two-sided):</th>    <td>0.00</td>  <th>  Kurtosis:          </th>  <td>10.30</td> \n",
              "</tr>\n",
              "</table><br/><br/>Warnings:<br/>[1] Covariance matrix calculated using the outer product of gradients (complex-step)."
            ],
            "text/plain": [
              "<class 'statsmodels.iolib.summary.Summary'>\n",
              "\"\"\"\n",
              "                               SARIMAX Results                                \n",
              "==============================================================================\n",
              "Dep. Variable:                      y   No. Observations:                  936\n",
              "Model:               SARIMAX(1, 0, 0)   Log Likelihood               -3906.606\n",
              "Date:                Wed, 03 Jun 2020   AIC                           7833.211\n",
              "Time:                        20:40:23   BIC                           7881.627\n",
              "Sample:                             0   HQIC                          7851.672\n",
              "                                - 936                                         \n",
              "Covariance Type:                  opg                                         \n",
              "========================================================================================================\n",
              "                                           coef    std err          z      P>|z|      [0.025      0.975]\n",
              "--------------------------------------------------------------------------------------------------------\n",
              "intercept                               -2.2676     15.781     -0.144      0.886     -33.198      28.662\n",
              "precipitation_amt_mm                    -0.0076      0.011     -0.692      0.489      -0.029       0.014\n",
              "reanalysis_relative_humidity_percent   -17.3750      0.917    -18.944      0.000     -19.173     -15.577\n",
              "reanalysis_dew_point_temp_k             84.1660      4.320     19.481      0.000      75.698      92.634\n",
              "reanalysis_max_air_temp_k                2.5106      1.188      2.114      0.035       0.183       4.838\n",
              "reanalysis_min_air_temp_k               -4.1057      1.128     -3.641      0.000      -6.316      -1.896\n",
              "reanalysis_avg_temp_k                  -76.6258      3.960    -19.348      0.000     -84.388     -68.864\n",
              "station_diur_temp_rng_c                 -0.1269      0.738     -0.172      0.864      -1.573       1.320\n",
              "ar.L1                                    0.9428      0.005    199.355      0.000       0.933       0.952\n",
              "sigma2                                 242.3142      6.166     39.296      0.000     230.228     254.400\n",
              "===================================================================================\n",
              "Ljung-Box (Q):                       60.28   Jarque-Bera (JB):              2189.60\n",
              "Prob(Q):                              0.02   Prob(JB):                         0.00\n",
              "Heteroskedasticity (H):               0.47   Skew:                             0.84\n",
              "Prob(H) (two-sided):                  0.00   Kurtosis:                        10.30\n",
              "===================================================================================\n",
              "\n",
              "Warnings:\n",
              "[1] Covariance matrix calculated using the outer product of gradients (complex-step).\n",
              "\"\"\""
            ]
          },
          "metadata": {
            "tags": []
          },
          "execution_count": 58
        }
      ]
    },
    {
      "cell_type": "code",
      "metadata": {
        "id": "VCxPfwG5xG5a",
        "colab_type": "code",
        "colab": {
          "base_uri": "https://localhost:8080/",
          "height": 918
        },
        "outputId": "ded958d4-d614-4fb4-c0f4-e99b018a270c"
      },
      "source": [
        "arima_model_San_Juan_arimax.fit(San_Juan_data['total_cases'])\n",
        "predictions_San_Juan_arimax = arima_model_San_Juan_arimax.predict(n_periods=261)\n",
        "predictions_San_Juan_arimax"
      ],
      "execution_count": 59,
      "outputs": [
        {
          "output_type": "execute_result",
          "data": {
            "text/plain": [
              "array([ 5.99071605,  6.94587386,  7.86674965,  8.75457386,  9.61053276,\n",
              "       10.43577003, 11.23138834, 11.99845073, 12.73798214, 13.45097067,\n",
              "       14.13836901, 14.80109561, 15.44003598, 16.05604385, 16.64994229,\n",
              "       17.22252484, 17.77455657, 18.30677507, 18.81989147, 19.31459137,\n",
              "       19.79153577, 20.25136193, 20.69468426, 21.1220951 , 21.53416553,\n",
              "       21.93144616, 22.3144678 , 22.68374224, 23.03976287, 23.3830054 ,\n",
              "       23.71392846, 24.0329742 , 24.34056892, 24.63712362, 24.92303453,\n",
              "       25.19868368, 25.46443938, 25.72065672, 25.96767805, 26.20583341,\n",
              "       26.43544103, 26.6568077 , 26.87022919, 27.07599068, 27.27436708,\n",
              "       27.46562346, 27.65001537, 27.82778918, 27.99918243, 28.16442413,\n",
              "       28.32373506, 28.47732809, 28.62540844, 28.76817396, 28.90581543,\n",
              "       29.03851674, 29.1664552 , 29.28980177, 29.40872125, 29.52337253,\n",
              "       29.63390881, 29.74047778, 29.84322184, 29.94227826, 30.0377794 ,\n",
              "       30.12985286, 30.21862168, 30.30420445, 30.38671553, 30.46626516,\n",
              "       30.54295964, 30.61690145, 30.68818937, 30.75691867, 30.82318117,\n",
              "       30.88706542, 30.94865676, 31.0080375 , 31.06528698, 31.12048169,\n",
              "       31.17369539, 31.22499916, 31.27446157, 31.3221487 , 31.36812427,\n",
              "       31.41244971, 31.45518424, 31.49638497, 31.53610694, 31.57440323,\n",
              "       31.61132502, 31.64692162, 31.68124061, 31.71432785, 31.74622753,\n",
              "       31.77698229, 31.80663321, 31.83521992, 31.86278061, 31.88935211,\n",
              "       31.91496992, 31.93966826, 31.96348015, 31.98643739, 32.00857067,\n",
              "       32.02990954, 32.05048254, 32.07031714, 32.08943984, 32.10787621,\n",
              "       32.12565087, 32.14278756, 32.1593092 , 32.17523785, 32.1905948 ,\n",
              "       32.20540057, 32.21967493, 32.23343697, 32.24670506, 32.25949695,\n",
              "       32.27182972, 32.28371984, 32.29518321, 32.30623515, 32.31689041,\n",
              "       32.32716324, 32.33706736, 32.34661601, 32.35582195, 32.36469747,\n",
              "       32.37325444, 32.38150428, 32.38945802, 32.3971263 , 32.40451934,\n",
              "       32.41164704, 32.41851892, 32.42514415, 32.4315316 , 32.43768979,\n",
              "       32.44362695, 32.44935102, 32.45486965, 32.4601902 , 32.46531979,\n",
              "       32.47026528, 32.47503326, 32.47963011, 32.48406197, 32.48833477,\n",
              "       32.49245421, 32.4964258 , 32.50025484, 32.50394646, 32.50750557,\n",
              "       32.51093695, 32.51424516, 32.51743464, 32.52050965, 32.52347428,\n",
              "       32.52633252, 32.52908816, 32.53174491, 32.53430629, 32.53677575,\n",
              "       32.53915657, 32.54145195, 32.54366493, 32.54579849, 32.54785548,\n",
              "       32.54983863, 32.55175061, 32.55359397, 32.55537116, 32.55708457,\n",
              "       32.55873648, 32.5603291 , 32.56186456, 32.56334491, 32.56477212,\n",
              "       32.56614812, 32.56747472, 32.56875372, 32.5699868 , 32.57117563,\n",
              "       32.5723218 , 32.57342682, 32.57449218, 32.57551931, 32.57650957,\n",
              "       32.57746429, 32.57838474, 32.57927216, 32.58012772, 32.58095258,\n",
              "       32.58174783, 32.58251454, 32.58325373, 32.58396639, 32.58465348,\n",
              "       32.5853159 , 32.58595454, 32.58657027, 32.58716389, 32.58773621,\n",
              "       32.58828799, 32.58881997, 32.58933285, 32.58982732, 32.59030404,\n",
              "       32.59076366, 32.59120678, 32.59163399, 32.59204587, 32.59244297,\n",
              "       32.59282582, 32.59319492, 32.59355078, 32.59389386, 32.59422463,\n",
              "       32.59454353, 32.59485098, 32.5951474 , 32.59543318, 32.59570871,\n",
              "       32.59597434, 32.59623044, 32.59647735, 32.59671539, 32.59694489,\n",
              "       32.59716616, 32.59737948, 32.59758515, 32.59778343, 32.5979746 ,\n",
              "       32.59815891, 32.5983366 , 32.59850792, 32.59867308, 32.59883232,\n",
              "       32.59898584, 32.59913385, 32.59927655, 32.59941413, 32.59954677,\n",
              "       32.59967465, 32.59979794, 32.59991681, 32.60003141, 32.60014189,\n",
              "       32.60024841, 32.60035111, 32.60045012, 32.60054558, 32.60063761,\n",
              "       32.60072634, 32.60081188, 32.60089435, 32.60097386, 32.60105052,\n",
              "       32.60112443])"
            ]
          },
          "metadata": {
            "tags": []
          },
          "execution_count": 59
        }
      ]
    },
    {
      "cell_type": "markdown",
      "metadata": {
        "id": "faLVgJRuzXoY",
        "colab_type": "text"
      },
      "source": [
        "SARIMA Model"
      ]
    },
    {
      "cell_type": "code",
      "metadata": {
        "id": "rbvM2pjzyRwc",
        "colab_type": "code",
        "colab": {
          "base_uri": "https://localhost:8080/",
          "height": 703
        },
        "outputId": "242da7bf-e552-4150-82af-352583f01e41"
      },
      "source": [
        "sarima_model_San_Juan = auto_arima(San_Juan_data['total_cases'],seasonal=True,trace=True,stationary=True)\n",
        "sarima_model_San_Juan.summary()"
      ],
      "execution_count": 60,
      "outputs": [
        {
          "output_type": "stream",
          "text": [
            "Performing stepwise search to minimize aic\n",
            "Fit ARIMA(2,0,2)x(0,0,0,0) [intercept=True]; AIC=7490.925, BIC=7519.974, Time=0.937 seconds\n",
            "Fit ARIMA(0,0,0)x(0,0,0,0) [intercept=True]; AIC=10033.577, BIC=10043.260, Time=0.038 seconds\n",
            "Fit ARIMA(1,0,0)x(0,0,0,0) [intercept=True]; AIC=7537.460, BIC=7551.985, Time=0.083 seconds\n",
            "Fit ARIMA(0,0,1)x(0,0,0,0) [intercept=True]; AIC=9061.112, BIC=9075.637, Time=0.287 seconds\n",
            "Fit ARIMA(0,0,0)x(0,0,0,0) [intercept=False]; AIC=10374.835, BIC=10379.677, Time=0.020 seconds\n",
            "Fit ARIMA(1,0,2)x(0,0,0,0) [intercept=True]; AIC=7509.307, BIC=7533.515, Time=0.574 seconds\n",
            "Fit ARIMA(2,0,1)x(0,0,0,0) [intercept=True]; AIC=7488.982, BIC=7513.191, Time=0.580 seconds\n",
            "Fit ARIMA(1,0,1)x(0,0,0,0) [intercept=True]; AIC=7520.965, BIC=7540.332, Time=0.348 seconds\n",
            "Fit ARIMA(2,0,0)x(0,0,0,0) [intercept=True]; AIC=7516.329, BIC=7535.696, Time=0.204 seconds\n",
            "Fit ARIMA(3,0,1)x(0,0,0,0) [intercept=True]; AIC=7490.924, BIC=7519.974, Time=1.313 seconds\n",
            "Fit ARIMA(3,0,0)x(0,0,0,0) [intercept=True]; AIC=7506.186, BIC=7530.394, Time=0.540 seconds\n",
            "Fit ARIMA(3,0,2)x(0,0,0,0) [intercept=True]; AIC=7490.084, BIC=7523.975, Time=2.055 seconds\n",
            "Total fit time: 6.993 seconds\n"
          ],
          "name": "stdout"
        },
        {
          "output_type": "execute_result",
          "data": {
            "text/html": [
              "<table class=\"simpletable\">\n",
              "<caption>SARIMAX Results</caption>\n",
              "<tr>\n",
              "  <th>Dep. Variable:</th>           <td>y</td>        <th>  No. Observations:  </th>    <td>936</td>   \n",
              "</tr>\n",
              "<tr>\n",
              "  <th>Model:</th>           <td>SARIMAX(2, 0, 1)</td> <th>  Log Likelihood     </th> <td>-3739.491</td>\n",
              "</tr>\n",
              "<tr>\n",
              "  <th>Date:</th>            <td>Wed, 03 Jun 2020</td> <th>  AIC                </th> <td>7488.982</td> \n",
              "</tr>\n",
              "<tr>\n",
              "  <th>Time:</th>                <td>20:40:46</td>     <th>  BIC                </th> <td>7513.191</td> \n",
              "</tr>\n",
              "<tr>\n",
              "  <th>Sample:</th>                  <td>0</td>        <th>  HQIC               </th> <td>7498.213</td> \n",
              "</tr>\n",
              "<tr>\n",
              "  <th></th>                      <td> - 936</td>      <th>                     </th>     <td> </td>    \n",
              "</tr>\n",
              "<tr>\n",
              "  <th>Covariance Type:</th>        <td>opg</td>       <th>                     </th>     <td> </td>    \n",
              "</tr>\n",
              "</table>\n",
              "<table class=\"simpletable\">\n",
              "<tr>\n",
              "      <td></td>         <th>coef</th>     <th>std err</th>      <th>z</th>      <th>P>|z|</th>  <th>[0.025</th>    <th>0.975]</th>  \n",
              "</tr>\n",
              "<tr>\n",
              "  <th>intercept</th> <td>    0.4932</td> <td>    0.158</td> <td>    3.129</td> <td> 0.002</td> <td>    0.184</td> <td>    0.802</td>\n",
              "</tr>\n",
              "<tr>\n",
              "  <th>ar.L1</th>     <td>    1.8504</td> <td>    0.027</td> <td>   68.911</td> <td> 0.000</td> <td>    1.798</td> <td>    1.903</td>\n",
              "</tr>\n",
              "<tr>\n",
              "  <th>ar.L2</th>     <td>   -0.8649</td> <td>    0.026</td> <td>  -33.623</td> <td> 0.000</td> <td>   -0.915</td> <td>   -0.814</td>\n",
              "</tr>\n",
              "<tr>\n",
              "  <th>ma.L1</th>     <td>   -0.7831</td> <td>    0.034</td> <td>  -22.778</td> <td> 0.000</td> <td>   -0.851</td> <td>   -0.716</td>\n",
              "</tr>\n",
              "<tr>\n",
              "  <th>sigma2</th>    <td>  172.3351</td> <td>    3.220</td> <td>   53.515</td> <td> 0.000</td> <td>  166.023</td> <td>  178.647</td>\n",
              "</tr>\n",
              "</table>\n",
              "<table class=\"simpletable\">\n",
              "<tr>\n",
              "  <th>Ljung-Box (Q):</th>          <td>46.45</td> <th>  Jarque-Bera (JB):  </th> <td>5058.29</td>\n",
              "</tr>\n",
              "<tr>\n",
              "  <th>Prob(Q):</th>                <td>0.22</td>  <th>  Prob(JB):          </th>  <td>0.00</td>  \n",
              "</tr>\n",
              "<tr>\n",
              "  <th>Heteroskedasticity (H):</th> <td>0.34</td>  <th>  Skew:              </th>  <td>0.94</td>  \n",
              "</tr>\n",
              "<tr>\n",
              "  <th>Prob(H) (two-sided):</th>    <td>0.00</td>  <th>  Kurtosis:          </th>  <td>14.23</td> \n",
              "</tr>\n",
              "</table><br/><br/>Warnings:<br/>[1] Covariance matrix calculated using the outer product of gradients (complex-step)."
            ],
            "text/plain": [
              "<class 'statsmodels.iolib.summary.Summary'>\n",
              "\"\"\"\n",
              "                               SARIMAX Results                                \n",
              "==============================================================================\n",
              "Dep. Variable:                      y   No. Observations:                  936\n",
              "Model:               SARIMAX(2, 0, 1)   Log Likelihood               -3739.491\n",
              "Date:                Wed, 03 Jun 2020   AIC                           7488.982\n",
              "Time:                        20:40:46   BIC                           7513.191\n",
              "Sample:                             0   HQIC                          7498.213\n",
              "                                - 936                                         \n",
              "Covariance Type:                  opg                                         \n",
              "==============================================================================\n",
              "                 coef    std err          z      P>|z|      [0.025      0.975]\n",
              "------------------------------------------------------------------------------\n",
              "intercept      0.4932      0.158      3.129      0.002       0.184       0.802\n",
              "ar.L1          1.8504      0.027     68.911      0.000       1.798       1.903\n",
              "ar.L2         -0.8649      0.026    -33.623      0.000      -0.915      -0.814\n",
              "ma.L1         -0.7831      0.034    -22.778      0.000      -0.851      -0.716\n",
              "sigma2       172.3351      3.220     53.515      0.000     166.023     178.647\n",
              "===================================================================================\n",
              "Ljung-Box (Q):                       46.45   Jarque-Bera (JB):              5058.29\n",
              "Prob(Q):                              0.22   Prob(JB):                         0.00\n",
              "Heteroskedasticity (H):               0.34   Skew:                             0.94\n",
              "Prob(H) (two-sided):                  0.00   Kurtosis:                        14.23\n",
              "===================================================================================\n",
              "\n",
              "Warnings:\n",
              "[1] Covariance matrix calculated using the outer product of gradients (complex-step).\n",
              "\"\"\""
            ]
          },
          "metadata": {
            "tags": []
          },
          "execution_count": 60
        }
      ]
    },
    {
      "cell_type": "code",
      "metadata": {
        "id": "E-sFS0APzvqW",
        "colab_type": "code",
        "colab": {
          "base_uri": "https://localhost:8080/",
          "height": 765
        },
        "outputId": "0e293857-ca2e-4e1e-95df-0a964a5de243"
      },
      "source": [
        "sarima_model_San_Juan.fit(San_Juan_data['total_cases'])\n",
        "predictions_San_Juan_ARIMA = sarima_model_San_Juan.predict(n_periods=261)\n",
        "print(predictions_San_Juan_ARIMA)"
      ],
      "execution_count": 63,
      "outputs": [
        {
          "output_type": "stream",
          "text": [
            "[ 7.09447092  9.29592912 11.55788114 13.83923379 16.10416267 18.32192188\n",
            " 20.46660543 22.51687049 24.45563159 26.26973414 27.94961492 29.48895609\n",
            " 30.88433873 32.13490101 33.24200527 34.20891776 35.04050391 35.74294145\n",
            " 36.32345328 36.79006109 37.15136076 37.41631966 37.59409594 37.69387949\n",
            " 37.7247539  37.69557859 37.61489018 37.49082183 37.33103936 37.14269285\n",
            " 36.93238221 36.70613547 36.46939826 36.22703328 35.98332824 35.74201112\n",
            " 35.50627156 35.27878714 35.06175358 34.85691786 34.66561347 34.48879679\n",
            " 34.32708416 34.18078884 34.04995736 33.93440491 33.83374927 33.74744305\n",
            " 33.67480394 33.6150429  33.56729003 33.5306182  33.50406423 33.48664779\n",
            " 33.47738799 33.47531775 33.47949597 33.48901776 33.50302267 33.52070127\n",
            " 33.54129997 33.56412452 33.58854202 33.61398191 33.63993581 33.66595656\n",
            " 33.69165639 33.71670462 33.74082472 33.763791   33.78542508 33.80559206\n",
            " 33.82419659 33.84117897 33.85651118 33.87019296 33.88224816 33.89272104\n",
            " 33.90167293 33.90917901 33.91532534 33.92020616 33.92392138 33.92657438\n",
            " 33.92827006 33.92911304 33.92920625 33.92864963 33.92753904 33.9259655\n",
            " 33.92401444 33.92176526 33.91929097 33.91665798 33.91392606 33.91114834\n",
            " 33.90837142 33.90563561 33.90297519 33.90041868 33.89798926 33.89570512\n",
            " 33.89357988 33.891623   33.88984022 33.88823396 33.88680377 33.88554667\n",
            " 33.88445758 33.88352965 33.88275461 33.88212309 33.8816249  33.88124928\n",
            " 33.88098513 33.88082124 33.88074645 33.88074982 33.88082073 33.88094903\n",
            " 33.88112511 33.88133994 33.88158516 33.8818531  33.88213678 33.88242996\n",
            " 33.88272709 33.8830233  33.88331441 33.88359687 33.88386774 33.88412463\n",
            " 33.88436571 33.8845896  33.88479536 33.88498245 33.88515066 33.8853001\n",
            " 33.88543112 33.88554432 33.88564044 33.88572041 33.88578522 33.885836\n",
            " 33.8858739  33.88590009 33.8859158  33.88592219 33.88592045 33.88591168\n",
            " 33.88589698 33.88587735 33.88585374 33.88582704 33.88579806 33.88576752\n",
            " 33.88573607 33.88570431 33.88567273 33.88564176 33.88561179 33.8855831\n",
            " 33.88555594 33.88553051 33.88550693 33.8854853  33.88546567 33.88544807\n",
            " 33.88543246 33.88541881 33.88540705 33.8853971  33.88538886 33.88538221\n",
            " 33.88537704 33.88537323 33.88537064 33.88536915 33.88536864 33.88536897\n",
            " 33.88537003 33.8853717  33.88537388 33.88537647 33.88537937 33.88538251\n",
            " 33.88538579 33.88538916 33.88539256 33.88539592 33.88539921 33.88540239\n",
            " 33.88540543 33.8854083  33.88541098 33.88541347 33.88541574 33.8854178\n",
            " 33.88541964 33.88542127 33.88542269 33.88542391 33.88542494 33.88542579\n",
            " 33.88542647 33.88542699 33.88542738 33.88542763 33.88542777 33.88542781\n",
            " 33.88542776 33.88542763 33.88542744 33.8854272  33.88542692 33.8854266\n",
            " 33.88542626 33.88542591 33.88542555 33.88542519 33.88542483 33.88542448\n",
            " 33.88542414 33.88542382 33.88542352 33.88542323 33.88542297 33.88542273\n",
            " 33.88542252 33.88542233 33.88542216 33.88542201 33.88542188 33.88542178\n",
            " 33.88542169 33.88542162 33.88542156 33.88542153 33.8854215  33.88542149\n",
            " 33.88542149 33.88542149 33.88542151 33.88542153 33.88542156 33.88542159\n",
            " 33.88542162 33.88542166 33.8854217  33.88542173 33.88542177 33.88542181\n",
            " 33.88542185 33.88542188 33.88542192 33.88542195 33.88542198 33.88542201\n",
            " 33.88542203 33.88542206 33.88542208]\n"
          ],
          "name": "stdout"
        }
      ]
    },
    {
      "cell_type": "markdown",
      "metadata": {
        "id": "fECf-zb_z5Mv",
        "colab_type": "text"
      },
      "source": [
        "SARIMAX Model"
      ]
    },
    {
      "cell_type": "code",
      "metadata": {
        "id": "1i_5Ulkez6HP",
        "colab_type": "code",
        "colab": {
          "base_uri": "https://localhost:8080/",
          "height": 740
        },
        "outputId": "f466edcc-799e-4b89-cb2c-adf5ba12dcd6"
      },
      "source": [
        "#sarimax_model_sanjuan = auto_arima(sanJuan_data['total_cases'],seasonal=True,exogenous = sanJuan_data[['total_cases']].values)\n",
        "combined = San_Juan_data.loc[:,['precipitation_amt_mm','reanalysis_relative_humidity_percent','reanalysis_dew_point_temp_k',\n",
        "                               'reanalysis_max_air_temp_k','reanalysis_min_air_temp_k','reanalysis_avg_temp_k','station_diur_temp_rng_c']]\n",
        "\n",
        "sarimax_model_San_Juan = auto_arima(San_Juan_data['total_cases'],exogenous= combined, seasonal=True,trace=True,stationary=True)\n",
        "sarimax_model_San_Juan.summary() "
      ],
      "execution_count": 62,
      "outputs": [
        {
          "output_type": "stream",
          "text": [
            "Performing stepwise search to minimize aic\n",
            "Fit ARIMA(2,0,2)x(0,0,0,0) [intercept=True]; AIC=7904.370, BIC=7967.311, Time=3.552 seconds\n",
            "Fit ARIMA(0,0,0)x(0,0,0,0) [intercept=True]; AIC=9995.205, BIC=10038.780, Time=0.390 seconds\n",
            "Fit ARIMA(1,0,0)x(0,0,0,0) [intercept=True]; AIC=7833.211, BIC=7881.627, Time=1.638 seconds\n",
            "Fit ARIMA(0,0,1)x(0,0,0,0) [intercept=True]; AIC=9119.135, BIC=9167.552, Time=2.628 seconds\n",
            "Fit ARIMA(0,0,0)x(0,0,0,0) [intercept=False]; AIC=9993.206, BIC=10031.939, Time=0.876 seconds\n",
            "Fit ARIMA(2,0,0)x(0,0,0,0) [intercept=True]; AIC=7833.529, BIC=7886.787, Time=2.964 seconds\n",
            "Fit ARIMA(1,0,1)x(0,0,0,0) [intercept=True]; AIC=7836.701, BIC=7889.959, Time=2.798 seconds\n",
            "Fit ARIMA(2,0,1)x(0,0,0,0) [intercept=True]; AIC=7836.362, BIC=7894.461, Time=3.195 seconds\n",
            "Total fit time: 18.050 seconds\n"
          ],
          "name": "stdout"
        },
        {
          "output_type": "execute_result",
          "data": {
            "text/html": [
              "<table class=\"simpletable\">\n",
              "<caption>SARIMAX Results</caption>\n",
              "<tr>\n",
              "  <th>Dep. Variable:</th>           <td>y</td>        <th>  No. Observations:  </th>    <td>936</td>   \n",
              "</tr>\n",
              "<tr>\n",
              "  <th>Model:</th>           <td>SARIMAX(1, 0, 0)</td> <th>  Log Likelihood     </th> <td>-3906.606</td>\n",
              "</tr>\n",
              "<tr>\n",
              "  <th>Date:</th>            <td>Wed, 03 Jun 2020</td> <th>  AIC                </th> <td>7833.211</td> \n",
              "</tr>\n",
              "<tr>\n",
              "  <th>Time:</th>                <td>20:41:19</td>     <th>  BIC                </th> <td>7881.627</td> \n",
              "</tr>\n",
              "<tr>\n",
              "  <th>Sample:</th>                  <td>0</td>        <th>  HQIC               </th> <td>7851.672</td> \n",
              "</tr>\n",
              "<tr>\n",
              "  <th></th>                      <td> - 936</td>      <th>                     </th>     <td> </td>    \n",
              "</tr>\n",
              "<tr>\n",
              "  <th>Covariance Type:</th>        <td>opg</td>       <th>                     </th>     <td> </td>    \n",
              "</tr>\n",
              "</table>\n",
              "<table class=\"simpletable\">\n",
              "<tr>\n",
              "                    <td></td>                      <th>coef</th>     <th>std err</th>      <th>z</th>      <th>P>|z|</th>  <th>[0.025</th>    <th>0.975]</th>  \n",
              "</tr>\n",
              "<tr>\n",
              "  <th>intercept</th>                            <td>   -2.2676</td> <td>   15.781</td> <td>   -0.144</td> <td> 0.886</td> <td>  -33.198</td> <td>   28.662</td>\n",
              "</tr>\n",
              "<tr>\n",
              "  <th>precipitation_amt_mm</th>                 <td>   -0.0076</td> <td>    0.011</td> <td>   -0.692</td> <td> 0.489</td> <td>   -0.029</td> <td>    0.014</td>\n",
              "</tr>\n",
              "<tr>\n",
              "  <th>reanalysis_relative_humidity_percent</th> <td>  -17.3750</td> <td>    0.917</td> <td>  -18.944</td> <td> 0.000</td> <td>  -19.173</td> <td>  -15.577</td>\n",
              "</tr>\n",
              "<tr>\n",
              "  <th>reanalysis_dew_point_temp_k</th>          <td>   84.1660</td> <td>    4.320</td> <td>   19.481</td> <td> 0.000</td> <td>   75.698</td> <td>   92.634</td>\n",
              "</tr>\n",
              "<tr>\n",
              "  <th>reanalysis_max_air_temp_k</th>            <td>    2.5106</td> <td>    1.188</td> <td>    2.114</td> <td> 0.035</td> <td>    0.183</td> <td>    4.838</td>\n",
              "</tr>\n",
              "<tr>\n",
              "  <th>reanalysis_min_air_temp_k</th>            <td>   -4.1057</td> <td>    1.128</td> <td>   -3.641</td> <td> 0.000</td> <td>   -6.316</td> <td>   -1.896</td>\n",
              "</tr>\n",
              "<tr>\n",
              "  <th>reanalysis_avg_temp_k</th>                <td>  -76.6258</td> <td>    3.960</td> <td>  -19.348</td> <td> 0.000</td> <td>  -84.388</td> <td>  -68.864</td>\n",
              "</tr>\n",
              "<tr>\n",
              "  <th>station_diur_temp_rng_c</th>              <td>   -0.1269</td> <td>    0.738</td> <td>   -0.172</td> <td> 0.864</td> <td>   -1.573</td> <td>    1.320</td>\n",
              "</tr>\n",
              "<tr>\n",
              "  <th>ar.L1</th>                                <td>    0.9428</td> <td>    0.005</td> <td>  199.355</td> <td> 0.000</td> <td>    0.933</td> <td>    0.952</td>\n",
              "</tr>\n",
              "<tr>\n",
              "  <th>sigma2</th>                               <td>  242.3142</td> <td>    6.166</td> <td>   39.296</td> <td> 0.000</td> <td>  230.228</td> <td>  254.400</td>\n",
              "</tr>\n",
              "</table>\n",
              "<table class=\"simpletable\">\n",
              "<tr>\n",
              "  <th>Ljung-Box (Q):</th>          <td>60.28</td> <th>  Jarque-Bera (JB):  </th> <td>2189.60</td>\n",
              "</tr>\n",
              "<tr>\n",
              "  <th>Prob(Q):</th>                <td>0.02</td>  <th>  Prob(JB):          </th>  <td>0.00</td>  \n",
              "</tr>\n",
              "<tr>\n",
              "  <th>Heteroskedasticity (H):</th> <td>0.47</td>  <th>  Skew:              </th>  <td>0.84</td>  \n",
              "</tr>\n",
              "<tr>\n",
              "  <th>Prob(H) (two-sided):</th>    <td>0.00</td>  <th>  Kurtosis:          </th>  <td>10.30</td> \n",
              "</tr>\n",
              "</table><br/><br/>Warnings:<br/>[1] Covariance matrix calculated using the outer product of gradients (complex-step)."
            ],
            "text/plain": [
              "<class 'statsmodels.iolib.summary.Summary'>\n",
              "\"\"\"\n",
              "                               SARIMAX Results                                \n",
              "==============================================================================\n",
              "Dep. Variable:                      y   No. Observations:                  936\n",
              "Model:               SARIMAX(1, 0, 0)   Log Likelihood               -3906.606\n",
              "Date:                Wed, 03 Jun 2020   AIC                           7833.211\n",
              "Time:                        20:41:19   BIC                           7881.627\n",
              "Sample:                             0   HQIC                          7851.672\n",
              "                                - 936                                         \n",
              "Covariance Type:                  opg                                         \n",
              "========================================================================================================\n",
              "                                           coef    std err          z      P>|z|      [0.025      0.975]\n",
              "--------------------------------------------------------------------------------------------------------\n",
              "intercept                               -2.2676     15.781     -0.144      0.886     -33.198      28.662\n",
              "precipitation_amt_mm                    -0.0076      0.011     -0.692      0.489      -0.029       0.014\n",
              "reanalysis_relative_humidity_percent   -17.3750      0.917    -18.944      0.000     -19.173     -15.577\n",
              "reanalysis_dew_point_temp_k             84.1660      4.320     19.481      0.000      75.698      92.634\n",
              "reanalysis_max_air_temp_k                2.5106      1.188      2.114      0.035       0.183       4.838\n",
              "reanalysis_min_air_temp_k               -4.1057      1.128     -3.641      0.000      -6.316      -1.896\n",
              "reanalysis_avg_temp_k                  -76.6258      3.960    -19.348      0.000     -84.388     -68.864\n",
              "station_diur_temp_rng_c                 -0.1269      0.738     -0.172      0.864      -1.573       1.320\n",
              "ar.L1                                    0.9428      0.005    199.355      0.000       0.933       0.952\n",
              "sigma2                                 242.3142      6.166     39.296      0.000     230.228     254.400\n",
              "===================================================================================\n",
              "Ljung-Box (Q):                       60.28   Jarque-Bera (JB):              2189.60\n",
              "Prob(Q):                              0.02   Prob(JB):                         0.00\n",
              "Heteroskedasticity (H):               0.47   Skew:                             0.84\n",
              "Prob(H) (two-sided):                  0.00   Kurtosis:                        10.30\n",
              "===================================================================================\n",
              "\n",
              "Warnings:\n",
              "[1] Covariance matrix calculated using the outer product of gradients (complex-step).\n",
              "\"\"\""
            ]
          },
          "metadata": {
            "tags": []
          },
          "execution_count": 62
        }
      ]
    },
    {
      "cell_type": "code",
      "metadata": {
        "id": "L6GYjMAWz-Fj",
        "colab_type": "code",
        "colab": {
          "base_uri": "https://localhost:8080/",
          "height": 765
        },
        "outputId": "d672c4b7-f755-4807-a754-80834cab00e0"
      },
      "source": [
        "sarimax_model_San_Juan.fit(San_Juan_data['total_cases'])\n",
        "predictions_San_Juan_ARIMAX = sarimax_model_San_Juan.predict(n_periods=261)\n",
        "print(predictions_San_Juan_ARIMAX)"
      ],
      "execution_count": 64,
      "outputs": [
        {
          "output_type": "stream",
          "text": [
            "[ 5.99071605  6.94587386  7.86674965  8.75457386  9.61053276 10.43577003\n",
            " 11.23138834 11.99845073 12.73798214 13.45097067 14.13836901 14.80109561\n",
            " 15.44003598 16.05604385 16.64994229 17.22252484 17.77455657 18.30677507\n",
            " 18.81989147 19.31459137 19.79153577 20.25136193 20.69468426 21.1220951\n",
            " 21.53416553 21.93144616 22.3144678  22.68374224 23.03976287 23.3830054\n",
            " 23.71392846 24.0329742  24.34056892 24.63712362 24.92303453 25.19868368\n",
            " 25.46443938 25.72065672 25.96767805 26.20583341 26.43544103 26.6568077\n",
            " 26.87022919 27.07599068 27.27436708 27.46562346 27.65001537 27.82778918\n",
            " 27.99918243 28.16442413 28.32373506 28.47732809 28.62540844 28.76817396\n",
            " 28.90581543 29.03851674 29.1664552  29.28980177 29.40872125 29.52337253\n",
            " 29.63390881 29.74047778 29.84322184 29.94227826 30.0377794  30.12985286\n",
            " 30.21862168 30.30420445 30.38671553 30.46626516 30.54295964 30.61690145\n",
            " 30.68818937 30.75691867 30.82318117 30.88706542 30.94865676 31.0080375\n",
            " 31.06528698 31.12048169 31.17369539 31.22499916 31.27446157 31.3221487\n",
            " 31.36812427 31.41244971 31.45518424 31.49638497 31.53610694 31.57440323\n",
            " 31.61132502 31.64692162 31.68124061 31.71432785 31.74622753 31.77698229\n",
            " 31.80663321 31.83521992 31.86278061 31.88935211 31.91496992 31.93966826\n",
            " 31.96348015 31.98643739 32.00857067 32.02990954 32.05048254 32.07031714\n",
            " 32.08943984 32.10787621 32.12565087 32.14278756 32.1593092  32.17523785\n",
            " 32.1905948  32.20540057 32.21967493 32.23343697 32.24670506 32.25949695\n",
            " 32.27182972 32.28371984 32.29518321 32.30623515 32.31689041 32.32716324\n",
            " 32.33706736 32.34661601 32.35582195 32.36469747 32.37325444 32.38150428\n",
            " 32.38945802 32.3971263  32.40451934 32.41164704 32.41851892 32.42514415\n",
            " 32.4315316  32.43768979 32.44362695 32.44935102 32.45486965 32.4601902\n",
            " 32.46531979 32.47026528 32.47503326 32.47963011 32.48406197 32.48833477\n",
            " 32.49245421 32.4964258  32.50025484 32.50394646 32.50750557 32.51093695\n",
            " 32.51424516 32.51743464 32.52050965 32.52347428 32.52633252 32.52908816\n",
            " 32.53174491 32.53430629 32.53677575 32.53915657 32.54145195 32.54366493\n",
            " 32.54579849 32.54785548 32.54983863 32.55175061 32.55359397 32.55537116\n",
            " 32.55708457 32.55873648 32.5603291  32.56186456 32.56334491 32.56477212\n",
            " 32.56614812 32.56747472 32.56875372 32.5699868  32.57117563 32.5723218\n",
            " 32.57342682 32.57449218 32.57551931 32.57650957 32.57746429 32.57838474\n",
            " 32.57927216 32.58012772 32.58095258 32.58174783 32.58251454 32.58325373\n",
            " 32.58396639 32.58465348 32.5853159  32.58595454 32.58657027 32.58716389\n",
            " 32.58773621 32.58828799 32.58881997 32.58933285 32.58982732 32.59030404\n",
            " 32.59076366 32.59120678 32.59163399 32.59204587 32.59244297 32.59282582\n",
            " 32.59319492 32.59355078 32.59389386 32.59422463 32.59454353 32.59485098\n",
            " 32.5951474  32.59543318 32.59570871 32.59597434 32.59623044 32.59647735\n",
            " 32.59671539 32.59694489 32.59716616 32.59737948 32.59758515 32.59778343\n",
            " 32.5979746  32.59815891 32.5983366  32.59850792 32.59867308 32.59883232\n",
            " 32.59898584 32.59913385 32.59927655 32.59941413 32.59954677 32.59967465\n",
            " 32.59979794 32.59991681 32.60003141 32.60014189 32.60024841 32.60035111\n",
            " 32.60045012 32.60054558 32.60063761 32.60072634 32.60081188 32.60089435\n",
            " 32.60097386 32.60105052 32.60112443]\n"
          ],
          "name": "stdout"
        }
      ]
    },
    {
      "cell_type": "markdown",
      "metadata": {
        "id": "KHUkPqZo2r4L",
        "colab_type": "text"
      },
      "source": [
        "Models for Iquitos Data"
      ]
    },
    {
      "cell_type": "markdown",
      "metadata": {
        "id": "iBpNAgdz2u7a",
        "colab_type": "text"
      },
      "source": [
        "ARIMA Model\n"
      ]
    },
    {
      "cell_type": "code",
      "metadata": {
        "id": "TNAxMnpH2g9Y",
        "colab_type": "code",
        "colab": {
          "base_uri": "https://localhost:8080/",
          "height": 847
        },
        "outputId": "cf451a36-d5c2-4427-d806-d9602a6c294f"
      },
      "source": [
        "arima_model_Iquitos = auto_arima(Iquitos_data['total_cases'],trace=True,stationary=True)\n",
        "arima_model_Iquitos.summary() "
      ],
      "execution_count": 65,
      "outputs": [
        {
          "output_type": "stream",
          "text": [
            "Performing stepwise search to minimize aic\n",
            "Fit ARIMA(2,0,2)x(0,0,0,0) [intercept=True]; AIC=3515.663, BIC=3541.186, Time=0.474 seconds\n",
            "Fit ARIMA(0,0,0)x(0,0,0,0) [intercept=True]; AIC=3950.093, BIC=3958.601, Time=0.025 seconds\n",
            "Fit ARIMA(1,0,0)x(0,0,0,0) [intercept=True]; AIC=3528.197, BIC=3540.958, Time=0.100 seconds\n",
            "Fit ARIMA(0,0,1)x(0,0,0,0) [intercept=True]; AIC=3674.835, BIC=3687.596, Time=0.166 seconds\n",
            "Fit ARIMA(0,0,0)x(0,0,0,0) [intercept=False]; AIC=4157.130, BIC=4161.384, Time=0.014 seconds\n",
            "Fit ARIMA(1,0,2)x(0,0,0,0) [intercept=True]; AIC=3514.760, BIC=3536.029, Time=0.249 seconds\n",
            "Fit ARIMA(0,0,2)x(0,0,0,0) [intercept=True]; AIC=3604.412, BIC=3621.427, Time=0.239 seconds\n",
            "Fit ARIMA(1,0,1)x(0,0,0,0) [intercept=True]; AIC=3526.112, BIC=3543.127, Time=0.224 seconds\n",
            "Fit ARIMA(1,0,3)x(0,0,0,0) [intercept=True]; AIC=3513.396, BIC=3538.919, Time=0.377 seconds\n",
            "Fit ARIMA(0,0,3)x(0,0,0,0) [intercept=True]; AIC=3589.490, BIC=3610.759, Time=0.392 seconds\n",
            "Fit ARIMA(2,0,3)x(0,0,0,0) [intercept=True]; AIC=3512.443, BIC=3542.220, Time=0.658 seconds\n",
            "Fit ARIMA(3,0,3)x(0,0,0,0) [intercept=True]; AIC=3506.210, BIC=3540.241, Time=1.031 seconds\n",
            "Fit ARIMA(3,0,2)x(0,0,0,0) [intercept=True]; AIC=3504.282, BIC=3534.058, Time=0.873 seconds\n",
            "Fit ARIMA(3,0,1)x(0,0,0,0) [intercept=True]; AIC=3509.896, BIC=3535.419, Time=0.362 seconds\n",
            "Fit ARIMA(4,0,2)x(0,0,0,0) [intercept=True]; AIC=3513.644, BIC=3547.674, Time=0.725 seconds\n",
            "Fit ARIMA(2,0,1)x(0,0,0,0) [intercept=True]; AIC=3522.863, BIC=3544.132, Time=0.650 seconds\n",
            "Fit ARIMA(4,0,1)x(0,0,0,0) [intercept=True]; AIC=3510.061, BIC=3539.837, Time=0.735 seconds\n",
            "Fit ARIMA(4,0,3)x(0,0,0,0) [intercept=True]; AIC=3507.595, BIC=3545.879, Time=1.590 seconds\n",
            "Total fit time: 8.902 seconds\n"
          ],
          "name": "stdout"
        },
        {
          "output_type": "execute_result",
          "data": {
            "text/html": [
              "<table class=\"simpletable\">\n",
              "<caption>SARIMAX Results</caption>\n",
              "<tr>\n",
              "  <th>Dep. Variable:</th>           <td>y</td>        <th>  No. Observations:  </th>    <td>520</td>   \n",
              "</tr>\n",
              "<tr>\n",
              "  <th>Model:</th>           <td>SARIMAX(3, 0, 2)</td> <th>  Log Likelihood     </th> <td>-1745.141</td>\n",
              "</tr>\n",
              "<tr>\n",
              "  <th>Date:</th>            <td>Wed, 03 Jun 2020</td> <th>  AIC                </th> <td>3504.282</td> \n",
              "</tr>\n",
              "<tr>\n",
              "  <th>Time:</th>                <td>20:42:37</td>     <th>  BIC                </th> <td>3534.058</td> \n",
              "</tr>\n",
              "<tr>\n",
              "  <th>Sample:</th>                  <td>0</td>        <th>  HQIC               </th> <td>3515.946</td> \n",
              "</tr>\n",
              "<tr>\n",
              "  <th></th>                      <td> - 520</td>      <th>                     </th>     <td> </td>    \n",
              "</tr>\n",
              "<tr>\n",
              "  <th>Covariance Type:</th>        <td>opg</td>       <th>                     </th>     <td> </td>    \n",
              "</tr>\n",
              "</table>\n",
              "<table class=\"simpletable\">\n",
              "<tr>\n",
              "      <td></td>         <th>coef</th>     <th>std err</th>      <th>z</th>      <th>P>|z|</th>  <th>[0.025</th>    <th>0.975]</th>  \n",
              "</tr>\n",
              "<tr>\n",
              "  <th>intercept</th> <td>    1.9599</td> <td>    0.919</td> <td>    2.132</td> <td> 0.033</td> <td>    0.158</td> <td>    3.762</td>\n",
              "</tr>\n",
              "<tr>\n",
              "  <th>ar.L1</th>     <td>    0.8352</td> <td>    0.144</td> <td>    5.817</td> <td> 0.000</td> <td>    0.554</td> <td>    1.117</td>\n",
              "</tr>\n",
              "<tr>\n",
              "  <th>ar.L2</th>     <td>   -0.6226</td> <td>    0.197</td> <td>   -3.165</td> <td> 0.002</td> <td>   -1.008</td> <td>   -0.237</td>\n",
              "</tr>\n",
              "<tr>\n",
              "  <th>ar.L3</th>     <td>    0.5243</td> <td>    0.095</td> <td>    5.505</td> <td> 0.000</td> <td>    0.338</td> <td>    0.711</td>\n",
              "</tr>\n",
              "<tr>\n",
              "  <th>ma.L1</th>     <td>   -0.1475</td> <td>    0.156</td> <td>   -0.948</td> <td> 0.343</td> <td>   -0.453</td> <td>    0.158</td>\n",
              "</tr>\n",
              "<tr>\n",
              "  <th>ma.L2</th>     <td>    0.4575</td> <td>    0.151</td> <td>    3.021</td> <td> 0.003</td> <td>    0.161</td> <td>    0.754</td>\n",
              "</tr>\n",
              "<tr>\n",
              "  <th>sigma2</th>    <td>   48.0495</td> <td>    1.132</td> <td>   42.440</td> <td> 0.000</td> <td>   45.831</td> <td>   50.269</td>\n",
              "</tr>\n",
              "</table>\n",
              "<table class=\"simpletable\">\n",
              "<tr>\n",
              "  <th>Ljung-Box (Q):</th>          <td>17.85</td> <th>  Jarque-Bera (JB):  </th> <td>13859.84</td>\n",
              "</tr>\n",
              "<tr>\n",
              "  <th>Prob(Q):</th>                <td>1.00</td>  <th>  Prob(JB):          </th>   <td>0.00</td>  \n",
              "</tr>\n",
              "<tr>\n",
              "  <th>Heteroskedasticity (H):</th> <td>2.35</td>  <th>  Skew:              </th>   <td>2.50</td>  \n",
              "</tr>\n",
              "<tr>\n",
              "  <th>Prob(H) (two-sided):</th>    <td>0.00</td>  <th>  Kurtosis:          </th>   <td>27.79</td> \n",
              "</tr>\n",
              "</table><br/><br/>Warnings:<br/>[1] Covariance matrix calculated using the outer product of gradients (complex-step)."
            ],
            "text/plain": [
              "<class 'statsmodels.iolib.summary.Summary'>\n",
              "\"\"\"\n",
              "                               SARIMAX Results                                \n",
              "==============================================================================\n",
              "Dep. Variable:                      y   No. Observations:                  520\n",
              "Model:               SARIMAX(3, 0, 2)   Log Likelihood               -1745.141\n",
              "Date:                Wed, 03 Jun 2020   AIC                           3504.282\n",
              "Time:                        20:42:37   BIC                           3534.058\n",
              "Sample:                             0   HQIC                          3515.946\n",
              "                                - 520                                         \n",
              "Covariance Type:                  opg                                         \n",
              "==============================================================================\n",
              "                 coef    std err          z      P>|z|      [0.025      0.975]\n",
              "------------------------------------------------------------------------------\n",
              "intercept      1.9599      0.919      2.132      0.033       0.158       3.762\n",
              "ar.L1          0.8352      0.144      5.817      0.000       0.554       1.117\n",
              "ar.L2         -0.6226      0.197     -3.165      0.002      -1.008      -0.237\n",
              "ar.L3          0.5243      0.095      5.505      0.000       0.338       0.711\n",
              "ma.L1         -0.1475      0.156     -0.948      0.343      -0.453       0.158\n",
              "ma.L2          0.4575      0.151      3.021      0.003       0.161       0.754\n",
              "sigma2        48.0495      1.132     42.440      0.000      45.831      50.269\n",
              "===================================================================================\n",
              "Ljung-Box (Q):                       17.85   Jarque-Bera (JB):             13859.84\n",
              "Prob(Q):                              1.00   Prob(JB):                         0.00\n",
              "Heteroskedasticity (H):               2.35   Skew:                             2.50\n",
              "Prob(H) (two-sided):                  0.00   Kurtosis:                        27.79\n",
              "===================================================================================\n",
              "\n",
              "Warnings:\n",
              "[1] Covariance matrix calculated using the outer product of gradients (complex-step).\n",
              "\"\"\""
            ]
          },
          "metadata": {
            "tags": []
          },
          "execution_count": 65
        }
      ]
    },
    {
      "cell_type": "code",
      "metadata": {
        "id": "sQtzD_6r2-xw",
        "colab_type": "code",
        "colab": {
          "base_uri": "https://localhost:8080/",
          "height": 544
        },
        "outputId": "3ef35294-fe85-4a14-c011-8ed6377bb89a"
      },
      "source": [
        "arima_model_Iquitos.fit(Iquitos_data['total_cases'])\n",
        "predictions_Iquitos_arima = arima_model_Iquitos.predict(n_periods=155)\n",
        "predictions_Iquitos_arima"
      ],
      "execution_count": 66,
      "outputs": [
        {
          "output_type": "execute_result",
          "data": {
            "text/plain": [
              "array([4.3854249 , 4.00101993, 4.66862057, 5.6675831 , 5.88470327,\n",
              "       5.79417387, 6.10719293, 6.53881924, 6.65695801, 6.65104012,\n",
              "       6.79886839, 6.98795819, 7.05074484, 7.06297526, 7.1332487 ,\n",
              "       7.21724591, 7.2500611 , 7.26202137, 7.2956239 , 7.33344788,\n",
              "       7.35038889, 7.35860901, 7.37476003, 7.39201414, 7.40067936,\n",
              "       7.40564322, 7.41344128, 7.42140717, 7.42580802, 7.42861307,\n",
              "       7.4323928 , 7.43611073, 7.43833352, 7.43985715, 7.44169529,\n",
              "       7.44344738, 7.44456522, 7.44537184, 7.44626826, 7.44710089,\n",
              "       7.44766114, 7.44808071, 7.44851891, 7.44891744, 7.44919746,\n",
              "       7.44941299, 7.44962763, 7.44981953, 7.44995919, 7.4500689 ,\n",
              "       7.45017421, 7.45026708, 7.45033661, 7.45039208, 7.45044381,\n",
              "       7.45048895, 7.45052352, 7.45055142, 7.45057686, 7.45059887,\n",
              "       7.45061603, 7.45063001, 7.45064254, 7.4506533 , 7.45066182,\n",
              "       7.4506688 , 7.45067497, 7.45068025, 7.45068447, 7.45068795,\n",
              "       7.45069099, 7.45069358, 7.45069567, 7.4506974 , 7.4506989 ,\n",
              "       7.45070018, 7.45070121, 7.45070207, 7.45070281, 7.45070344,\n",
              "       7.45070395, 7.45070438, 7.45070475, 7.45070505, 7.45070531,\n",
              "       7.45070552, 7.4507057 , 7.45070585, 7.45070598, 7.45070608,\n",
              "       7.45070617, 7.45070625, 7.45070631, 7.45070636, 7.4507064 ,\n",
              "       7.45070644, 7.45070647, 7.4507065 , 7.45070652, 7.45070654,\n",
              "       7.45070655, 7.45070657, 7.45070658, 7.45070659, 7.45070659,\n",
              "       7.4507066 , 7.45070661, 7.45070661, 7.45070661, 7.45070662,\n",
              "       7.45070662, 7.45070662, 7.45070662, 7.45070662, 7.45070663,\n",
              "       7.45070663, 7.45070663, 7.45070663, 7.45070663, 7.45070663,\n",
              "       7.45070663, 7.45070663, 7.45070663, 7.45070663, 7.45070663,\n",
              "       7.45070663, 7.45070663, 7.45070663, 7.45070663, 7.45070663,\n",
              "       7.45070663, 7.45070663, 7.45070663, 7.45070663, 7.45070663,\n",
              "       7.45070663, 7.45070663, 7.45070663, 7.45070663, 7.45070663,\n",
              "       7.45070663, 7.45070663, 7.45070663, 7.45070663, 7.45070663,\n",
              "       7.45070663, 7.45070663, 7.45070663, 7.45070663, 7.45070663,\n",
              "       7.45070663, 7.45070663, 7.45070663, 7.45070663, 7.45070663])"
            ]
          },
          "metadata": {
            "tags": []
          },
          "execution_count": 66
        }
      ]
    },
    {
      "cell_type": "markdown",
      "metadata": {
        "id": "T4mwRscZ3EjM",
        "colab_type": "text"
      },
      "source": [
        "ARIMAX Model"
      ]
    },
    {
      "cell_type": "code",
      "metadata": {
        "id": "Xgr8GqgT3Cuy",
        "colab_type": "code",
        "colab": {
          "base_uri": "https://localhost:8080/",
          "height": 977
        },
        "outputId": "4112cd44-d3f6-481a-8e54-71fe1ac098f5"
      },
      "source": [
        "combined = Iquitos_data.loc[:,['precipitation_amt_mm','reanalysis_relative_humidity_percent','reanalysis_dew_point_temp_k',\n",
        "                               'reanalysis_max_air_temp_k','reanalysis_min_air_temp_k','reanalysis_avg_temp_k','station_diur_temp_rng_c']]\n",
        "\n",
        "arimax_model_Iquitos = auto_arima(Iquitos_data['total_cases'],                     \n",
        "                          seasonal=False,\n",
        "                          exogenous = combined,trace=True,stationary=True)\n",
        "\n",
        "arimax_model_Iquitos.summary() "
      ],
      "execution_count": 67,
      "outputs": [
        {
          "output_type": "stream",
          "text": [
            "Performing stepwise search to minimize aic\n",
            "Fit ARIMA(2,0,2)x(0,0,0,0) [intercept=True]; AIC=3525.821, BIC=3581.121, Time=2.150 seconds\n",
            "Fit ARIMA(0,0,0)x(0,0,0,0) [intercept=True]; AIC=3947.150, BIC=3985.434, Time=0.281 seconds\n",
            "Fit ARIMA(1,0,0)x(0,0,0,0) [intercept=True]; AIC=3538.838, BIC=3581.376, Time=0.849 seconds\n",
            "Fit ARIMA(0,0,1)x(0,0,0,0) [intercept=True]; AIC=3679.763, BIC=3722.302, Time=1.462 seconds\n",
            "Fit ARIMA(0,0,0)x(0,0,0,0) [intercept=False]; AIC=3945.155, BIC=3979.186, Time=0.791 seconds\n",
            "Fit ARIMA(1,0,2)x(0,0,0,0) [intercept=True]; AIC=3525.161, BIC=3576.207, Time=2.043 seconds\n",
            "Fit ARIMA(0,0,2)x(0,0,0,0) [intercept=True]; AIC=3612.010, BIC=3658.802, Time=1.845 seconds\n",
            "Fit ARIMA(1,0,1)x(0,0,0,0) [intercept=True]; AIC=3537.485, BIC=3584.277, Time=1.643 seconds\n",
            "Fit ARIMA(1,0,3)x(0,0,0,0) [intercept=True]; AIC=3523.353, BIC=3578.652, Time=2.081 seconds\n",
            "Fit ARIMA(0,0,3)x(0,0,0,0) [intercept=True]; AIC=3597.845, BIC=3648.891, Time=2.005 seconds\n",
            "Fit ARIMA(2,0,3)x(0,0,0,0) [intercept=True]; AIC=3523.585, BIC=3583.139, Time=2.271 seconds\n",
            "Fit ARIMA(1,0,4)x(0,0,0,0) [intercept=True]; AIC=3518.497, BIC=3578.051, Time=2.565 seconds\n",
            "Fit ARIMA(0,0,4)x(0,0,0,0) [intercept=True]; AIC=3556.499, BIC=3611.799, Time=2.421 seconds\n",
            "Fit ARIMA(2,0,4)x(0,0,0,0) [intercept=True]; AIC=3520.789, BIC=3584.596, Time=2.778 seconds\n",
            "Fit ARIMA(1,0,5)x(0,0,0,0) [intercept=True]; AIC=3520.455, BIC=3584.263, Time=3.043 seconds\n",
            "Fit ARIMA(0,0,5)x(0,0,0,0) [intercept=True]; AIC=3533.199, BIC=3592.753, Time=3.017 seconds\n",
            "Fit ARIMA(2,0,5)x(0,0,0,0) [intercept=True]; AIC=3522.814, BIC=3590.875, Time=3.262 seconds\n",
            "Total fit time: 34.526 seconds\n"
          ],
          "name": "stdout"
        },
        {
          "output_type": "execute_result",
          "data": {
            "text/html": [
              "<table class=\"simpletable\">\n",
              "<caption>SARIMAX Results</caption>\n",
              "<tr>\n",
              "  <th>Dep. Variable:</th>           <td>y</td>        <th>  No. Observations:  </th>    <td>520</td>   \n",
              "</tr>\n",
              "<tr>\n",
              "  <th>Model:</th>           <td>SARIMAX(1, 0, 4)</td> <th>  Log Likelihood     </th> <td>-1745.249</td>\n",
              "</tr>\n",
              "<tr>\n",
              "  <th>Date:</th>            <td>Wed, 03 Jun 2020</td> <th>  AIC                </th> <td>3518.497</td> \n",
              "</tr>\n",
              "<tr>\n",
              "  <th>Time:</th>                <td>20:44:01</td>     <th>  BIC                </th> <td>3578.051</td> \n",
              "</tr>\n",
              "<tr>\n",
              "  <th>Sample:</th>                  <td>0</td>        <th>  HQIC               </th> <td>3541.827</td> \n",
              "</tr>\n",
              "<tr>\n",
              "  <th></th>                      <td> - 520</td>      <th>                     </th>     <td> </td>    \n",
              "</tr>\n",
              "<tr>\n",
              "  <th>Covariance Type:</th>        <td>opg</td>       <th>                     </th>     <td> </td>    \n",
              "</tr>\n",
              "</table>\n",
              "<table class=\"simpletable\">\n",
              "<tr>\n",
              "                    <td></td>                      <th>coef</th>     <th>std err</th>      <th>z</th>      <th>P>|z|</th>  <th>[0.025</th>    <th>0.975]</th>  \n",
              "</tr>\n",
              "<tr>\n",
              "  <th>intercept</th>                            <td>    0.0368</td> <td>   41.868</td> <td>    0.001</td> <td> 0.999</td> <td>  -82.024</td> <td>   82.097</td>\n",
              "</tr>\n",
              "<tr>\n",
              "  <th>precipitation_amt_mm</th>                 <td>   -0.0004</td> <td>    0.013</td> <td>   -0.035</td> <td> 0.972</td> <td>   -0.026</td> <td>    0.025</td>\n",
              "</tr>\n",
              "<tr>\n",
              "  <th>reanalysis_relative_humidity_percent</th> <td>   -0.0788</td> <td>    0.304</td> <td>   -0.259</td> <td> 0.796</td> <td>   -0.675</td> <td>    0.517</td>\n",
              "</tr>\n",
              "<tr>\n",
              "  <th>reanalysis_dew_point_temp_k</th>          <td>   -0.0637</td> <td>    1.559</td> <td>   -0.041</td> <td> 0.967</td> <td>   -3.120</td> <td>    2.993</td>\n",
              "</tr>\n",
              "<tr>\n",
              "  <th>reanalysis_max_air_temp_k</th>            <td>   -0.1870</td> <td>    0.297</td> <td>   -0.630</td> <td> 0.529</td> <td>   -0.769</td> <td>    0.395</td>\n",
              "</tr>\n",
              "<tr>\n",
              "  <th>reanalysis_min_air_temp_k</th>            <td>    0.3158</td> <td>    0.364</td> <td>    0.868</td> <td> 0.385</td> <td>   -0.397</td> <td>    1.029</td>\n",
              "</tr>\n",
              "<tr>\n",
              "  <th>reanalysis_avg_temp_k</th>                <td>   -0.0075</td> <td>    1.216</td> <td>   -0.006</td> <td> 0.995</td> <td>   -2.390</td> <td>    2.375</td>\n",
              "</tr>\n",
              "<tr>\n",
              "  <th>station_diur_temp_rng_c</th>              <td>    0.0271</td> <td>    0.267</td> <td>    0.102</td> <td> 0.919</td> <td>   -0.497</td> <td>    0.551</td>\n",
              "</tr>\n",
              "<tr>\n",
              "  <th>ar.L1</th>                                <td>    0.7761</td> <td>    0.074</td> <td>   10.465</td> <td> 0.000</td> <td>    0.631</td> <td>    0.921</td>\n",
              "</tr>\n",
              "<tr>\n",
              "  <th>ma.L1</th>                                <td>   -0.0850</td> <td>    0.077</td> <td>   -1.101</td> <td> 0.271</td> <td>   -0.236</td> <td>    0.066</td>\n",
              "</tr>\n",
              "<tr>\n",
              "  <th>ma.L2</th>                                <td>   -0.1197</td> <td>    0.065</td> <td>   -1.837</td> <td> 0.066</td> <td>   -0.247</td> <td>    0.008</td>\n",
              "</tr>\n",
              "<tr>\n",
              "  <th>ma.L3</th>                                <td>    0.0964</td> <td>    0.044</td> <td>    2.211</td> <td> 0.027</td> <td>    0.011</td> <td>    0.182</td>\n",
              "</tr>\n",
              "<tr>\n",
              "  <th>ma.L4</th>                                <td>    0.1371</td> <td>    0.053</td> <td>    2.578</td> <td> 0.010</td> <td>    0.033</td> <td>    0.241</td>\n",
              "</tr>\n",
              "<tr>\n",
              "  <th>sigma2</th>                               <td>   47.8764</td> <td>    1.249</td> <td>   38.344</td> <td> 0.000</td> <td>   45.429</td> <td>   50.324</td>\n",
              "</tr>\n",
              "</table>\n",
              "<table class=\"simpletable\">\n",
              "<tr>\n",
              "  <th>Ljung-Box (Q):</th>          <td>19.83</td> <th>  Jarque-Bera (JB):  </th> <td>14743.43</td>\n",
              "</tr>\n",
              "<tr>\n",
              "  <th>Prob(Q):</th>                <td>1.00</td>  <th>  Prob(JB):          </th>   <td>0.00</td>  \n",
              "</tr>\n",
              "<tr>\n",
              "  <th>Heteroskedasticity (H):</th> <td>2.40</td>  <th>  Skew:              </th>   <td>2.47</td>  \n",
              "</tr>\n",
              "<tr>\n",
              "  <th>Prob(H) (two-sided):</th>    <td>0.00</td>  <th>  Kurtosis:          </th>   <td>28.61</td> \n",
              "</tr>\n",
              "</table><br/><br/>Warnings:<br/>[1] Covariance matrix calculated using the outer product of gradients (complex-step)."
            ],
            "text/plain": [
              "<class 'statsmodels.iolib.summary.Summary'>\n",
              "\"\"\"\n",
              "                               SARIMAX Results                                \n",
              "==============================================================================\n",
              "Dep. Variable:                      y   No. Observations:                  520\n",
              "Model:               SARIMAX(1, 0, 4)   Log Likelihood               -1745.249\n",
              "Date:                Wed, 03 Jun 2020   AIC                           3518.497\n",
              "Time:                        20:44:01   BIC                           3578.051\n",
              "Sample:                             0   HQIC                          3541.827\n",
              "                                - 520                                         \n",
              "Covariance Type:                  opg                                         \n",
              "========================================================================================================\n",
              "                                           coef    std err          z      P>|z|      [0.025      0.975]\n",
              "--------------------------------------------------------------------------------------------------------\n",
              "intercept                                0.0368     41.868      0.001      0.999     -82.024      82.097\n",
              "precipitation_amt_mm                    -0.0004      0.013     -0.035      0.972      -0.026       0.025\n",
              "reanalysis_relative_humidity_percent    -0.0788      0.304     -0.259      0.796      -0.675       0.517\n",
              "reanalysis_dew_point_temp_k             -0.0637      1.559     -0.041      0.967      -3.120       2.993\n",
              "reanalysis_max_air_temp_k               -0.1870      0.297     -0.630      0.529      -0.769       0.395\n",
              "reanalysis_min_air_temp_k                0.3158      0.364      0.868      0.385      -0.397       1.029\n",
              "reanalysis_avg_temp_k                   -0.0075      1.216     -0.006      0.995      -2.390       2.375\n",
              "station_diur_temp_rng_c                  0.0271      0.267      0.102      0.919      -0.497       0.551\n",
              "ar.L1                                    0.7761      0.074     10.465      0.000       0.631       0.921\n",
              "ma.L1                                   -0.0850      0.077     -1.101      0.271      -0.236       0.066\n",
              "ma.L2                                   -0.1197      0.065     -1.837      0.066      -0.247       0.008\n",
              "ma.L3                                    0.0964      0.044      2.211      0.027       0.011       0.182\n",
              "ma.L4                                    0.1371      0.053      2.578      0.010       0.033       0.241\n",
              "sigma2                                  47.8764      1.249     38.344      0.000      45.429      50.324\n",
              "===================================================================================\n",
              "Ljung-Box (Q):                       19.83   Jarque-Bera (JB):             14743.43\n",
              "Prob(Q):                              1.00   Prob(JB):                         0.00\n",
              "Heteroskedasticity (H):               2.40   Skew:                             2.47\n",
              "Prob(H) (two-sided):                  0.00   Kurtosis:                        28.61\n",
              "===================================================================================\n",
              "\n",
              "Warnings:\n",
              "[1] Covariance matrix calculated using the outer product of gradients (complex-step).\n",
              "\"\"\""
            ]
          },
          "metadata": {
            "tags": []
          },
          "execution_count": 67
        }
      ]
    },
    {
      "cell_type": "code",
      "metadata": {
        "id": "0zEa4O-C3IuJ",
        "colab_type": "code",
        "colab": {
          "base_uri": "https://localhost:8080/",
          "height": 544
        },
        "outputId": "b1657567-ae1a-4a62-f25d-ed27770783b0"
      },
      "source": [
        "arimax_model_Iquitos.fit(Iquitos_data['total_cases'])\n",
        "predictions_Iquitos_arimax = arimax_model_Iquitos.predict(n_periods=155)\n",
        "predictions_Iquitos_arimax"
      ],
      "execution_count": 69,
      "outputs": [
        {
          "output_type": "execute_result",
          "data": {
            "text/plain": [
              "array([4.65124341, 4.04790918, 4.630878  , 5.34514292, 5.82986618,\n",
              "       6.20414853, 6.49315319, 6.7163101 , 6.88862223, 7.0216742 ,\n",
              "       7.12441119, 7.20374025, 7.26499473, 7.31229279, 7.3488143 ,\n",
              "       7.37701464, 7.39878972, 7.4156035 , 7.42858637, 7.43861119,\n",
              "       7.44635191, 7.45232897, 7.45694419, 7.46050787, 7.46325959,\n",
              "       7.46538434, 7.46702499, 7.46829182, 7.46927002, 7.47002534,\n",
              "       7.47060856, 7.47105891, 7.47140664, 7.47167515, 7.47188247,\n",
              "       7.47204256, 7.47216618, 7.47226163, 7.47233533, 7.47239224,\n",
              "       7.47243618, 7.47247012, 7.47249632, 7.47251655, 7.47253217,\n",
              "       7.47254423, 7.47255354, 7.47256073, 7.47256629, 7.47257058,\n",
              "       7.47257389, 7.47257644, 7.47257842, 7.47257994, 7.47258112,\n",
              "       7.47258203, 7.47258273, 7.47258327, 7.47258369, 7.47258401,\n",
              "       7.47258426, 7.47258445, 7.4725846 , 7.47258472, 7.47258481,\n",
              "       7.47258488, 7.47258493, 7.47258497, 7.472585  , 7.47258502,\n",
              "       7.47258504, 7.47258506, 7.47258507, 7.47258508, 7.47258508,\n",
              "       7.47258509, 7.47258509, 7.4725851 , 7.4725851 , 7.4725851 ,\n",
              "       7.4725851 , 7.4725851 , 7.4725851 , 7.47258511, 7.47258511,\n",
              "       7.47258511, 7.47258511, 7.47258511, 7.47258511, 7.47258511,\n",
              "       7.47258511, 7.47258511, 7.47258511, 7.47258511, 7.47258511,\n",
              "       7.47258511, 7.47258511, 7.47258511, 7.47258511, 7.47258511,\n",
              "       7.47258511, 7.47258511, 7.47258511, 7.47258511, 7.47258511,\n",
              "       7.47258511, 7.47258511, 7.47258511, 7.47258511, 7.47258511,\n",
              "       7.47258511, 7.47258511, 7.47258511, 7.47258511, 7.47258511,\n",
              "       7.47258511, 7.47258511, 7.47258511, 7.47258511, 7.47258511,\n",
              "       7.47258511, 7.47258511, 7.47258511, 7.47258511, 7.47258511,\n",
              "       7.47258511, 7.47258511, 7.47258511, 7.47258511, 7.47258511,\n",
              "       7.47258511, 7.47258511, 7.47258511, 7.47258511, 7.47258511,\n",
              "       7.47258511, 7.47258511, 7.47258511, 7.47258511, 7.47258511,\n",
              "       7.47258511, 7.47258511, 7.47258511, 7.47258511, 7.47258511,\n",
              "       7.47258511, 7.47258511, 7.47258511, 7.47258511, 7.47258511,\n",
              "       7.47258511, 7.47258511, 7.47258511, 7.47258511, 7.47258511])"
            ]
          },
          "metadata": {
            "tags": []
          },
          "execution_count": 69
        }
      ]
    },
    {
      "cell_type": "markdown",
      "metadata": {
        "id": "SJc494pN3WWk",
        "colab_type": "text"
      },
      "source": [
        "SARIMA Model\n"
      ]
    },
    {
      "cell_type": "code",
      "metadata": {
        "id": "2BwXJ59v3S8d",
        "colab_type": "code",
        "colab": {
          "base_uri": "https://localhost:8080/",
          "height": 847
        },
        "outputId": "bb1bc5a9-ee86-497d-8bae-09f89b104e0a"
      },
      "source": [
        "sarima_model_Iquitos = auto_arima(Iquitos_data['total_cases'],seasonal=True,trace=True,stationary=True)\n",
        "sarima_model_Iquitos.summary()"
      ],
      "execution_count": 70,
      "outputs": [
        {
          "output_type": "stream",
          "text": [
            "Performing stepwise search to minimize aic\n",
            "Fit ARIMA(2,0,2)x(0,0,0,0) [intercept=True]; AIC=3515.663, BIC=3541.186, Time=0.471 seconds\n",
            "Fit ARIMA(0,0,0)x(0,0,0,0) [intercept=True]; AIC=3950.093, BIC=3958.601, Time=0.025 seconds\n",
            "Fit ARIMA(1,0,0)x(0,0,0,0) [intercept=True]; AIC=3528.197, BIC=3540.958, Time=0.095 seconds\n",
            "Fit ARIMA(0,0,1)x(0,0,0,0) [intercept=True]; AIC=3674.835, BIC=3687.596, Time=0.158 seconds\n",
            "Fit ARIMA(0,0,0)x(0,0,0,0) [intercept=False]; AIC=4157.130, BIC=4161.384, Time=0.014 seconds\n",
            "Fit ARIMA(1,0,2)x(0,0,0,0) [intercept=True]; AIC=3514.760, BIC=3536.029, Time=0.243 seconds\n",
            "Fit ARIMA(0,0,2)x(0,0,0,0) [intercept=True]; AIC=3604.412, BIC=3621.427, Time=0.240 seconds\n",
            "Fit ARIMA(1,0,1)x(0,0,0,0) [intercept=True]; AIC=3526.112, BIC=3543.127, Time=0.216 seconds\n",
            "Fit ARIMA(1,0,3)x(0,0,0,0) [intercept=True]; AIC=3513.396, BIC=3538.919, Time=0.369 seconds\n",
            "Fit ARIMA(0,0,3)x(0,0,0,0) [intercept=True]; AIC=3589.490, BIC=3610.759, Time=0.388 seconds\n",
            "Fit ARIMA(2,0,3)x(0,0,0,0) [intercept=True]; AIC=3512.443, BIC=3542.220, Time=0.608 seconds\n",
            "Fit ARIMA(3,0,3)x(0,0,0,0) [intercept=True]; AIC=3506.210, BIC=3540.241, Time=0.999 seconds\n",
            "Fit ARIMA(3,0,2)x(0,0,0,0) [intercept=True]; AIC=3504.282, BIC=3534.058, Time=0.821 seconds\n",
            "Fit ARIMA(3,0,1)x(0,0,0,0) [intercept=True]; AIC=3509.896, BIC=3535.419, Time=0.498 seconds\n",
            "Fit ARIMA(4,0,2)x(0,0,0,0) [intercept=True]; AIC=3513.644, BIC=3547.674, Time=0.701 seconds\n",
            "Fit ARIMA(2,0,1)x(0,0,0,0) [intercept=True]; AIC=3522.863, BIC=3544.132, Time=0.633 seconds\n",
            "Fit ARIMA(4,0,1)x(0,0,0,0) [intercept=True]; AIC=3510.061, BIC=3539.837, Time=0.682 seconds\n",
            "Fit ARIMA(4,0,3)x(0,0,0,0) [intercept=True]; AIC=3507.595, BIC=3545.879, Time=1.530 seconds\n",
            "Total fit time: 8.705 seconds\n"
          ],
          "name": "stdout"
        },
        {
          "output_type": "execute_result",
          "data": {
            "text/html": [
              "<table class=\"simpletable\">\n",
              "<caption>SARIMAX Results</caption>\n",
              "<tr>\n",
              "  <th>Dep. Variable:</th>           <td>y</td>        <th>  No. Observations:  </th>    <td>520</td>   \n",
              "</tr>\n",
              "<tr>\n",
              "  <th>Model:</th>           <td>SARIMAX(3, 0, 2)</td> <th>  Log Likelihood     </th> <td>-1745.141</td>\n",
              "</tr>\n",
              "<tr>\n",
              "  <th>Date:</th>            <td>Wed, 03 Jun 2020</td> <th>  AIC                </th> <td>3504.282</td> \n",
              "</tr>\n",
              "<tr>\n",
              "  <th>Time:</th>                <td>20:44:56</td>     <th>  BIC                </th> <td>3534.058</td> \n",
              "</tr>\n",
              "<tr>\n",
              "  <th>Sample:</th>                  <td>0</td>        <th>  HQIC               </th> <td>3515.946</td> \n",
              "</tr>\n",
              "<tr>\n",
              "  <th></th>                      <td> - 520</td>      <th>                     </th>     <td> </td>    \n",
              "</tr>\n",
              "<tr>\n",
              "  <th>Covariance Type:</th>        <td>opg</td>       <th>                     </th>     <td> </td>    \n",
              "</tr>\n",
              "</table>\n",
              "<table class=\"simpletable\">\n",
              "<tr>\n",
              "      <td></td>         <th>coef</th>     <th>std err</th>      <th>z</th>      <th>P>|z|</th>  <th>[0.025</th>    <th>0.975]</th>  \n",
              "</tr>\n",
              "<tr>\n",
              "  <th>intercept</th> <td>    1.9599</td> <td>    0.919</td> <td>    2.132</td> <td> 0.033</td> <td>    0.158</td> <td>    3.762</td>\n",
              "</tr>\n",
              "<tr>\n",
              "  <th>ar.L1</th>     <td>    0.8352</td> <td>    0.144</td> <td>    5.817</td> <td> 0.000</td> <td>    0.554</td> <td>    1.117</td>\n",
              "</tr>\n",
              "<tr>\n",
              "  <th>ar.L2</th>     <td>   -0.6226</td> <td>    0.197</td> <td>   -3.165</td> <td> 0.002</td> <td>   -1.008</td> <td>   -0.237</td>\n",
              "</tr>\n",
              "<tr>\n",
              "  <th>ar.L3</th>     <td>    0.5243</td> <td>    0.095</td> <td>    5.505</td> <td> 0.000</td> <td>    0.338</td> <td>    0.711</td>\n",
              "</tr>\n",
              "<tr>\n",
              "  <th>ma.L1</th>     <td>   -0.1475</td> <td>    0.156</td> <td>   -0.948</td> <td> 0.343</td> <td>   -0.453</td> <td>    0.158</td>\n",
              "</tr>\n",
              "<tr>\n",
              "  <th>ma.L2</th>     <td>    0.4575</td> <td>    0.151</td> <td>    3.021</td> <td> 0.003</td> <td>    0.161</td> <td>    0.754</td>\n",
              "</tr>\n",
              "<tr>\n",
              "  <th>sigma2</th>    <td>   48.0495</td> <td>    1.132</td> <td>   42.440</td> <td> 0.000</td> <td>   45.831</td> <td>   50.269</td>\n",
              "</tr>\n",
              "</table>\n",
              "<table class=\"simpletable\">\n",
              "<tr>\n",
              "  <th>Ljung-Box (Q):</th>          <td>17.85</td> <th>  Jarque-Bera (JB):  </th> <td>13859.84</td>\n",
              "</tr>\n",
              "<tr>\n",
              "  <th>Prob(Q):</th>                <td>1.00</td>  <th>  Prob(JB):          </th>   <td>0.00</td>  \n",
              "</tr>\n",
              "<tr>\n",
              "  <th>Heteroskedasticity (H):</th> <td>2.35</td>  <th>  Skew:              </th>   <td>2.50</td>  \n",
              "</tr>\n",
              "<tr>\n",
              "  <th>Prob(H) (two-sided):</th>    <td>0.00</td>  <th>  Kurtosis:          </th>   <td>27.79</td> \n",
              "</tr>\n",
              "</table><br/><br/>Warnings:<br/>[1] Covariance matrix calculated using the outer product of gradients (complex-step)."
            ],
            "text/plain": [
              "<class 'statsmodels.iolib.summary.Summary'>\n",
              "\"\"\"\n",
              "                               SARIMAX Results                                \n",
              "==============================================================================\n",
              "Dep. Variable:                      y   No. Observations:                  520\n",
              "Model:               SARIMAX(3, 0, 2)   Log Likelihood               -1745.141\n",
              "Date:                Wed, 03 Jun 2020   AIC                           3504.282\n",
              "Time:                        20:44:56   BIC                           3534.058\n",
              "Sample:                             0   HQIC                          3515.946\n",
              "                                - 520                                         \n",
              "Covariance Type:                  opg                                         \n",
              "==============================================================================\n",
              "                 coef    std err          z      P>|z|      [0.025      0.975]\n",
              "------------------------------------------------------------------------------\n",
              "intercept      1.9599      0.919      2.132      0.033       0.158       3.762\n",
              "ar.L1          0.8352      0.144      5.817      0.000       0.554       1.117\n",
              "ar.L2         -0.6226      0.197     -3.165      0.002      -1.008      -0.237\n",
              "ar.L3          0.5243      0.095      5.505      0.000       0.338       0.711\n",
              "ma.L1         -0.1475      0.156     -0.948      0.343      -0.453       0.158\n",
              "ma.L2          0.4575      0.151      3.021      0.003       0.161       0.754\n",
              "sigma2        48.0495      1.132     42.440      0.000      45.831      50.269\n",
              "===================================================================================\n",
              "Ljung-Box (Q):                       17.85   Jarque-Bera (JB):             13859.84\n",
              "Prob(Q):                              1.00   Prob(JB):                         0.00\n",
              "Heteroskedasticity (H):               2.35   Skew:                             2.50\n",
              "Prob(H) (two-sided):                  0.00   Kurtosis:                        27.79\n",
              "===================================================================================\n",
              "\n",
              "Warnings:\n",
              "[1] Covariance matrix calculated using the outer product of gradients (complex-step).\n",
              "\"\"\""
            ]
          },
          "metadata": {
            "tags": []
          },
          "execution_count": 70
        }
      ]
    },
    {
      "cell_type": "code",
      "metadata": {
        "id": "SH9_kTZn3cQz",
        "colab_type": "code",
        "colab": {
          "base_uri": "https://localhost:8080/",
          "height": 459
        },
        "outputId": "78c88a27-4638-4be6-d6bf-e2f395fec46f"
      },
      "source": [
        "sarima_model_Iquitos.fit(Iquitos_data['total_cases'])\n",
        "predictions_Iquitos_ARIMA = sarima_model_Iquitos.predict(n_periods=155)\n",
        "print(predictions_Iquitos_ARIMA)"
      ],
      "execution_count": 71,
      "outputs": [
        {
          "output_type": "stream",
          "text": [
            "[4.3854249  4.00101993 4.66862057 5.6675831  5.88470327 5.79417387\n",
            " 6.10719293 6.53881924 6.65695801 6.65104012 6.79886839 6.98795819\n",
            " 7.05074484 7.06297526 7.1332487  7.21724591 7.2500611  7.26202137\n",
            " 7.2956239  7.33344788 7.35038889 7.35860901 7.37476003 7.39201414\n",
            " 7.40067936 7.40564322 7.41344128 7.42140717 7.42580802 7.42861307\n",
            " 7.4323928  7.43611073 7.43833352 7.43985715 7.44169529 7.44344738\n",
            " 7.44456522 7.44537184 7.44626826 7.44710089 7.44766114 7.44808071\n",
            " 7.44851891 7.44891744 7.44919746 7.44941299 7.44962763 7.44981953\n",
            " 7.44995919 7.4500689  7.45017421 7.45026708 7.45033661 7.45039208\n",
            " 7.45044381 7.45048895 7.45052352 7.45055142 7.45057686 7.45059887\n",
            " 7.45061603 7.45063001 7.45064254 7.4506533  7.45066182 7.4506688\n",
            " 7.45067497 7.45068025 7.45068447 7.45068795 7.45069099 7.45069358\n",
            " 7.45069567 7.4506974  7.4506989  7.45070018 7.45070121 7.45070207\n",
            " 7.45070281 7.45070344 7.45070395 7.45070438 7.45070475 7.45070505\n",
            " 7.45070531 7.45070552 7.4507057  7.45070585 7.45070598 7.45070608\n",
            " 7.45070617 7.45070625 7.45070631 7.45070636 7.4507064  7.45070644\n",
            " 7.45070647 7.4507065  7.45070652 7.45070654 7.45070655 7.45070657\n",
            " 7.45070658 7.45070659 7.45070659 7.4507066  7.45070661 7.45070661\n",
            " 7.45070661 7.45070662 7.45070662 7.45070662 7.45070662 7.45070662\n",
            " 7.45070663 7.45070663 7.45070663 7.45070663 7.45070663 7.45070663\n",
            " 7.45070663 7.45070663 7.45070663 7.45070663 7.45070663 7.45070663\n",
            " 7.45070663 7.45070663 7.45070663 7.45070663 7.45070663 7.45070663\n",
            " 7.45070663 7.45070663 7.45070663 7.45070663 7.45070663 7.45070663\n",
            " 7.45070663 7.45070663 7.45070663 7.45070663 7.45070663 7.45070663\n",
            " 7.45070663 7.45070663 7.45070663 7.45070663 7.45070663 7.45070663\n",
            " 7.45070663 7.45070663 7.45070663 7.45070663 7.45070663]\n"
          ],
          "name": "stdout"
        }
      ]
    },
    {
      "cell_type": "markdown",
      "metadata": {
        "id": "GsofBaSc3lOy",
        "colab_type": "text"
      },
      "source": [
        "SARIMAX \n"
      ]
    },
    {
      "cell_type": "code",
      "metadata": {
        "id": "NHnJUh-a3ept",
        "colab_type": "code",
        "colab": {
          "base_uri": "https://localhost:8080/",
          "height": 977
        },
        "outputId": "8415346c-a51a-4ad8-ed07-abd0892219b1"
      },
      "source": [
        "combined = Iquitos_data.loc[:,['precipitation_amt_mm','reanalysis_relative_humidity_percent','reanalysis_dew_point_temp_k',\n",
        "                               'reanalysis_max_air_temp_k','reanalysis_min_air_temp_k','reanalysis_avg_temp_k','station_diur_temp_rng_c']]\n",
        "\n",
        "sarimax_model_iquitos = auto_arima(Iquitos_data['total_cases'],seasonal=True,exogenous = combined,trace=True,stationary=True)\n",
        "sarimax_model_iquitos.summary() "
      ],
      "execution_count": 72,
      "outputs": [
        {
          "output_type": "stream",
          "text": [
            "Performing stepwise search to minimize aic\n",
            "Fit ARIMA(2,0,2)x(0,0,0,0) [intercept=True]; AIC=3525.821, BIC=3581.121, Time=2.173 seconds\n",
            "Fit ARIMA(0,0,0)x(0,0,0,0) [intercept=True]; AIC=3947.150, BIC=3985.434, Time=0.277 seconds\n",
            "Fit ARIMA(1,0,0)x(0,0,0,0) [intercept=True]; AIC=3538.838, BIC=3581.376, Time=0.852 seconds\n",
            "Fit ARIMA(0,0,1)x(0,0,0,0) [intercept=True]; AIC=3679.763, BIC=3722.302, Time=1.484 seconds\n",
            "Fit ARIMA(0,0,0)x(0,0,0,0) [intercept=False]; AIC=3945.155, BIC=3979.186, Time=0.804 seconds\n",
            "Fit ARIMA(1,0,2)x(0,0,0,0) [intercept=True]; AIC=3525.161, BIC=3576.207, Time=1.998 seconds\n",
            "Fit ARIMA(0,0,2)x(0,0,0,0) [intercept=True]; AIC=3612.010, BIC=3658.802, Time=1.852 seconds\n",
            "Fit ARIMA(1,0,1)x(0,0,0,0) [intercept=True]; AIC=3537.485, BIC=3584.277, Time=1.624 seconds\n",
            "Fit ARIMA(1,0,3)x(0,0,0,0) [intercept=True]; AIC=3523.353, BIC=3578.652, Time=2.061 seconds\n",
            "Fit ARIMA(0,0,3)x(0,0,0,0) [intercept=True]; AIC=3597.845, BIC=3648.891, Time=2.014 seconds\n",
            "Fit ARIMA(2,0,3)x(0,0,0,0) [intercept=True]; AIC=3523.585, BIC=3583.139, Time=2.257 seconds\n",
            "Fit ARIMA(1,0,4)x(0,0,0,0) [intercept=True]; AIC=3518.497, BIC=3578.051, Time=2.493 seconds\n",
            "Fit ARIMA(0,0,4)x(0,0,0,0) [intercept=True]; AIC=3556.499, BIC=3611.799, Time=2.363 seconds\n",
            "Fit ARIMA(2,0,4)x(0,0,0,0) [intercept=True]; AIC=3520.789, BIC=3584.596, Time=2.737 seconds\n",
            "Fit ARIMA(1,0,5)x(0,0,0,0) [intercept=True]; AIC=3520.455, BIC=3584.263, Time=3.030 seconds\n",
            "Fit ARIMA(0,0,5)x(0,0,0,0) [intercept=True]; AIC=3533.199, BIC=3592.753, Time=2.979 seconds\n",
            "Fit ARIMA(2,0,5)x(0,0,0,0) [intercept=True]; AIC=3522.814, BIC=3590.875, Time=3.239 seconds\n",
            "Total fit time: 34.256 seconds\n"
          ],
          "name": "stdout"
        },
        {
          "output_type": "execute_result",
          "data": {
            "text/html": [
              "<table class=\"simpletable\">\n",
              "<caption>SARIMAX Results</caption>\n",
              "<tr>\n",
              "  <th>Dep. Variable:</th>           <td>y</td>        <th>  No. Observations:  </th>    <td>520</td>   \n",
              "</tr>\n",
              "<tr>\n",
              "  <th>Model:</th>           <td>SARIMAX(1, 0, 4)</td> <th>  Log Likelihood     </th> <td>-1745.249</td>\n",
              "</tr>\n",
              "<tr>\n",
              "  <th>Date:</th>            <td>Wed, 03 Jun 2020</td> <th>  AIC                </th> <td>3518.497</td> \n",
              "</tr>\n",
              "<tr>\n",
              "  <th>Time:</th>                <td>20:45:44</td>     <th>  BIC                </th> <td>3578.051</td> \n",
              "</tr>\n",
              "<tr>\n",
              "  <th>Sample:</th>                  <td>0</td>        <th>  HQIC               </th> <td>3541.827</td> \n",
              "</tr>\n",
              "<tr>\n",
              "  <th></th>                      <td> - 520</td>      <th>                     </th>     <td> </td>    \n",
              "</tr>\n",
              "<tr>\n",
              "  <th>Covariance Type:</th>        <td>opg</td>       <th>                     </th>     <td> </td>    \n",
              "</tr>\n",
              "</table>\n",
              "<table class=\"simpletable\">\n",
              "<tr>\n",
              "                    <td></td>                      <th>coef</th>     <th>std err</th>      <th>z</th>      <th>P>|z|</th>  <th>[0.025</th>    <th>0.975]</th>  \n",
              "</tr>\n",
              "<tr>\n",
              "  <th>intercept</th>                            <td>    0.0368</td> <td>   41.868</td> <td>    0.001</td> <td> 0.999</td> <td>  -82.024</td> <td>   82.097</td>\n",
              "</tr>\n",
              "<tr>\n",
              "  <th>precipitation_amt_mm</th>                 <td>   -0.0004</td> <td>    0.013</td> <td>   -0.035</td> <td> 0.972</td> <td>   -0.026</td> <td>    0.025</td>\n",
              "</tr>\n",
              "<tr>\n",
              "  <th>reanalysis_relative_humidity_percent</th> <td>   -0.0788</td> <td>    0.304</td> <td>   -0.259</td> <td> 0.796</td> <td>   -0.675</td> <td>    0.517</td>\n",
              "</tr>\n",
              "<tr>\n",
              "  <th>reanalysis_dew_point_temp_k</th>          <td>   -0.0637</td> <td>    1.559</td> <td>   -0.041</td> <td> 0.967</td> <td>   -3.120</td> <td>    2.993</td>\n",
              "</tr>\n",
              "<tr>\n",
              "  <th>reanalysis_max_air_temp_k</th>            <td>   -0.1870</td> <td>    0.297</td> <td>   -0.630</td> <td> 0.529</td> <td>   -0.769</td> <td>    0.395</td>\n",
              "</tr>\n",
              "<tr>\n",
              "  <th>reanalysis_min_air_temp_k</th>            <td>    0.3158</td> <td>    0.364</td> <td>    0.868</td> <td> 0.385</td> <td>   -0.397</td> <td>    1.029</td>\n",
              "</tr>\n",
              "<tr>\n",
              "  <th>reanalysis_avg_temp_k</th>                <td>   -0.0075</td> <td>    1.216</td> <td>   -0.006</td> <td> 0.995</td> <td>   -2.390</td> <td>    2.375</td>\n",
              "</tr>\n",
              "<tr>\n",
              "  <th>station_diur_temp_rng_c</th>              <td>    0.0271</td> <td>    0.267</td> <td>    0.102</td> <td> 0.919</td> <td>   -0.497</td> <td>    0.551</td>\n",
              "</tr>\n",
              "<tr>\n",
              "  <th>ar.L1</th>                                <td>    0.7761</td> <td>    0.074</td> <td>   10.465</td> <td> 0.000</td> <td>    0.631</td> <td>    0.921</td>\n",
              "</tr>\n",
              "<tr>\n",
              "  <th>ma.L1</th>                                <td>   -0.0850</td> <td>    0.077</td> <td>   -1.101</td> <td> 0.271</td> <td>   -0.236</td> <td>    0.066</td>\n",
              "</tr>\n",
              "<tr>\n",
              "  <th>ma.L2</th>                                <td>   -0.1197</td> <td>    0.065</td> <td>   -1.837</td> <td> 0.066</td> <td>   -0.247</td> <td>    0.008</td>\n",
              "</tr>\n",
              "<tr>\n",
              "  <th>ma.L3</th>                                <td>    0.0964</td> <td>    0.044</td> <td>    2.211</td> <td> 0.027</td> <td>    0.011</td> <td>    0.182</td>\n",
              "</tr>\n",
              "<tr>\n",
              "  <th>ma.L4</th>                                <td>    0.1371</td> <td>    0.053</td> <td>    2.578</td> <td> 0.010</td> <td>    0.033</td> <td>    0.241</td>\n",
              "</tr>\n",
              "<tr>\n",
              "  <th>sigma2</th>                               <td>   47.8764</td> <td>    1.249</td> <td>   38.344</td> <td> 0.000</td> <td>   45.429</td> <td>   50.324</td>\n",
              "</tr>\n",
              "</table>\n",
              "<table class=\"simpletable\">\n",
              "<tr>\n",
              "  <th>Ljung-Box (Q):</th>          <td>19.83</td> <th>  Jarque-Bera (JB):  </th> <td>14743.43</td>\n",
              "</tr>\n",
              "<tr>\n",
              "  <th>Prob(Q):</th>                <td>1.00</td>  <th>  Prob(JB):          </th>   <td>0.00</td>  \n",
              "</tr>\n",
              "<tr>\n",
              "  <th>Heteroskedasticity (H):</th> <td>2.40</td>  <th>  Skew:              </th>   <td>2.47</td>  \n",
              "</tr>\n",
              "<tr>\n",
              "  <th>Prob(H) (two-sided):</th>    <td>0.00</td>  <th>  Kurtosis:          </th>   <td>28.61</td> \n",
              "</tr>\n",
              "</table><br/><br/>Warnings:<br/>[1] Covariance matrix calculated using the outer product of gradients (complex-step)."
            ],
            "text/plain": [
              "<class 'statsmodels.iolib.summary.Summary'>\n",
              "\"\"\"\n",
              "                               SARIMAX Results                                \n",
              "==============================================================================\n",
              "Dep. Variable:                      y   No. Observations:                  520\n",
              "Model:               SARIMAX(1, 0, 4)   Log Likelihood               -1745.249\n",
              "Date:                Wed, 03 Jun 2020   AIC                           3518.497\n",
              "Time:                        20:45:44   BIC                           3578.051\n",
              "Sample:                             0   HQIC                          3541.827\n",
              "                                - 520                                         \n",
              "Covariance Type:                  opg                                         \n",
              "========================================================================================================\n",
              "                                           coef    std err          z      P>|z|      [0.025      0.975]\n",
              "--------------------------------------------------------------------------------------------------------\n",
              "intercept                                0.0368     41.868      0.001      0.999     -82.024      82.097\n",
              "precipitation_amt_mm                    -0.0004      0.013     -0.035      0.972      -0.026       0.025\n",
              "reanalysis_relative_humidity_percent    -0.0788      0.304     -0.259      0.796      -0.675       0.517\n",
              "reanalysis_dew_point_temp_k             -0.0637      1.559     -0.041      0.967      -3.120       2.993\n",
              "reanalysis_max_air_temp_k               -0.1870      0.297     -0.630      0.529      -0.769       0.395\n",
              "reanalysis_min_air_temp_k                0.3158      0.364      0.868      0.385      -0.397       1.029\n",
              "reanalysis_avg_temp_k                   -0.0075      1.216     -0.006      0.995      -2.390       2.375\n",
              "station_diur_temp_rng_c                  0.0271      0.267      0.102      0.919      -0.497       0.551\n",
              "ar.L1                                    0.7761      0.074     10.465      0.000       0.631       0.921\n",
              "ma.L1                                   -0.0850      0.077     -1.101      0.271      -0.236       0.066\n",
              "ma.L2                                   -0.1197      0.065     -1.837      0.066      -0.247       0.008\n",
              "ma.L3                                    0.0964      0.044      2.211      0.027       0.011       0.182\n",
              "ma.L4                                    0.1371      0.053      2.578      0.010       0.033       0.241\n",
              "sigma2                                  47.8764      1.249     38.344      0.000      45.429      50.324\n",
              "===================================================================================\n",
              "Ljung-Box (Q):                       19.83   Jarque-Bera (JB):             14743.43\n",
              "Prob(Q):                              1.00   Prob(JB):                         0.00\n",
              "Heteroskedasticity (H):               2.40   Skew:                             2.47\n",
              "Prob(H) (two-sided):                  0.00   Kurtosis:                        28.61\n",
              "===================================================================================\n",
              "\n",
              "Warnings:\n",
              "[1] Covariance matrix calculated using the outer product of gradients (complex-step).\n",
              "\"\"\""
            ]
          },
          "metadata": {
            "tags": []
          },
          "execution_count": 72
        }
      ]
    },
    {
      "cell_type": "code",
      "metadata": {
        "id": "QnwqvAi43niq",
        "colab_type": "code",
        "colab": {
          "base_uri": "https://localhost:8080/",
          "height": 459
        },
        "outputId": "5167a1df-4fb8-4154-cb2b-abfd97d8c5bc"
      },
      "source": [
        "sarimax_model_iquitos.fit(Iquitos_data['total_cases'])\n",
        "predictions_iquitos_ARIMAX = sarimax_model_iquitos.predict(n_periods=155)\n",
        "print(predictions_iquitos_ARIMAX)"
      ],
      "execution_count": 73,
      "outputs": [
        {
          "output_type": "stream",
          "text": [
            "[4.65124341 4.04790918 4.630878   5.34514292 5.82986618 6.20414853\n",
            " 6.49315319 6.7163101  6.88862223 7.0216742  7.12441119 7.20374025\n",
            " 7.26499473 7.31229279 7.3488143  7.37701464 7.39878972 7.4156035\n",
            " 7.42858637 7.43861119 7.44635191 7.45232897 7.45694419 7.46050787\n",
            " 7.46325959 7.46538434 7.46702499 7.46829182 7.46927002 7.47002534\n",
            " 7.47060856 7.47105891 7.47140664 7.47167515 7.47188247 7.47204256\n",
            " 7.47216618 7.47226163 7.47233533 7.47239224 7.47243618 7.47247012\n",
            " 7.47249632 7.47251655 7.47253217 7.47254423 7.47255354 7.47256073\n",
            " 7.47256629 7.47257058 7.47257389 7.47257644 7.47257842 7.47257994\n",
            " 7.47258112 7.47258203 7.47258273 7.47258327 7.47258369 7.47258401\n",
            " 7.47258426 7.47258445 7.4725846  7.47258472 7.47258481 7.47258488\n",
            " 7.47258493 7.47258497 7.472585   7.47258502 7.47258504 7.47258506\n",
            " 7.47258507 7.47258508 7.47258508 7.47258509 7.47258509 7.4725851\n",
            " 7.4725851  7.4725851  7.4725851  7.4725851  7.4725851  7.47258511\n",
            " 7.47258511 7.47258511 7.47258511 7.47258511 7.47258511 7.47258511\n",
            " 7.47258511 7.47258511 7.47258511 7.47258511 7.47258511 7.47258511\n",
            " 7.47258511 7.47258511 7.47258511 7.47258511 7.47258511 7.47258511\n",
            " 7.47258511 7.47258511 7.47258511 7.47258511 7.47258511 7.47258511\n",
            " 7.47258511 7.47258511 7.47258511 7.47258511 7.47258511 7.47258511\n",
            " 7.47258511 7.47258511 7.47258511 7.47258511 7.47258511 7.47258511\n",
            " 7.47258511 7.47258511 7.47258511 7.47258511 7.47258511 7.47258511\n",
            " 7.47258511 7.47258511 7.47258511 7.47258511 7.47258511 7.47258511\n",
            " 7.47258511 7.47258511 7.47258511 7.47258511 7.47258511 7.47258511\n",
            " 7.47258511 7.47258511 7.47258511 7.47258511 7.47258511 7.47258511\n",
            " 7.47258511 7.47258511 7.47258511 7.47258511 7.47258511 7.47258511\n",
            " 7.47258511 7.47258511 7.47258511 7.47258511 7.47258511]\n"
          ],
          "name": "stdout"
        }
      ]
    }
  ]
}